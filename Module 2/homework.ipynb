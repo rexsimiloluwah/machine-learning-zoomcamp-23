{
 "cells": [
  {
   "cell_type": "code",
   "execution_count": 25,
   "metadata": {},
   "outputs": [],
   "source": [
    "import seaborn as sns\n",
    "import numpy as np \n",
    "import pandas as pd"
   ]
  },
  {
   "cell_type": "code",
   "execution_count": 3,
   "metadata": {},
   "outputs": [],
   "source": [
    "df = pd.read_csv(\"https://raw.githubusercontent.com/alexeygrigorev/datasets/master/housing.csv\")"
   ]
  },
  {
   "cell_type": "code",
   "execution_count": 45,
   "metadata": {},
   "outputs": [
    {
     "data": {
      "text/html": [
       "<div>\n",
       "<style scoped>\n",
       "    .dataframe tbody tr th:only-of-type {\n",
       "        vertical-align: middle;\n",
       "    }\n",
       "\n",
       "    .dataframe tbody tr th {\n",
       "        vertical-align: top;\n",
       "    }\n",
       "\n",
       "    .dataframe thead th {\n",
       "        text-align: right;\n",
       "    }\n",
       "</style>\n",
       "<table border=\"1\" class=\"dataframe\">\n",
       "  <thead>\n",
       "    <tr style=\"text-align: right;\">\n",
       "      <th></th>\n",
       "      <th>longitude</th>\n",
       "      <th>latitude</th>\n",
       "      <th>housing_median_age</th>\n",
       "      <th>total_rooms</th>\n",
       "      <th>total_bedrooms</th>\n",
       "      <th>population</th>\n",
       "      <th>households</th>\n",
       "      <th>median_income</th>\n",
       "      <th>median_house_value</th>\n",
       "      <th>ocean_proximity</th>\n",
       "    </tr>\n",
       "  </thead>\n",
       "  <tbody>\n",
       "    <tr>\n",
       "      <th>0</th>\n",
       "      <td>-122.23</td>\n",
       "      <td>37.88</td>\n",
       "      <td>41.0</td>\n",
       "      <td>880.0</td>\n",
       "      <td>129.0</td>\n",
       "      <td>322.0</td>\n",
       "      <td>126.0</td>\n",
       "      <td>8.3252</td>\n",
       "      <td>452600.0</td>\n",
       "      <td>NEAR BAY</td>\n",
       "    </tr>\n",
       "    <tr>\n",
       "      <th>1</th>\n",
       "      <td>-122.22</td>\n",
       "      <td>37.86</td>\n",
       "      <td>21.0</td>\n",
       "      <td>7099.0</td>\n",
       "      <td>1106.0</td>\n",
       "      <td>2401.0</td>\n",
       "      <td>1138.0</td>\n",
       "      <td>8.3014</td>\n",
       "      <td>358500.0</td>\n",
       "      <td>NEAR BAY</td>\n",
       "    </tr>\n",
       "    <tr>\n",
       "      <th>2</th>\n",
       "      <td>-122.24</td>\n",
       "      <td>37.85</td>\n",
       "      <td>52.0</td>\n",
       "      <td>1467.0</td>\n",
       "      <td>190.0</td>\n",
       "      <td>496.0</td>\n",
       "      <td>177.0</td>\n",
       "      <td>7.2574</td>\n",
       "      <td>352100.0</td>\n",
       "      <td>NEAR BAY</td>\n",
       "    </tr>\n",
       "    <tr>\n",
       "      <th>3</th>\n",
       "      <td>-122.25</td>\n",
       "      <td>37.85</td>\n",
       "      <td>52.0</td>\n",
       "      <td>1274.0</td>\n",
       "      <td>235.0</td>\n",
       "      <td>558.0</td>\n",
       "      <td>219.0</td>\n",
       "      <td>5.6431</td>\n",
       "      <td>341300.0</td>\n",
       "      <td>NEAR BAY</td>\n",
       "    </tr>\n",
       "    <tr>\n",
       "      <th>4</th>\n",
       "      <td>-122.25</td>\n",
       "      <td>37.85</td>\n",
       "      <td>52.0</td>\n",
       "      <td>1627.0</td>\n",
       "      <td>280.0</td>\n",
       "      <td>565.0</td>\n",
       "      <td>259.0</td>\n",
       "      <td>3.8462</td>\n",
       "      <td>342200.0</td>\n",
       "      <td>NEAR BAY</td>\n",
       "    </tr>\n",
       "  </tbody>\n",
       "</table>\n",
       "</div>"
      ],
      "text/plain": [
       "   longitude  latitude  housing_median_age  total_rooms  total_bedrooms  \\\n",
       "0    -122.23     37.88                41.0        880.0           129.0   \n",
       "1    -122.22     37.86                21.0       7099.0          1106.0   \n",
       "2    -122.24     37.85                52.0       1467.0           190.0   \n",
       "3    -122.25     37.85                52.0       1274.0           235.0   \n",
       "4    -122.25     37.85                52.0       1627.0           280.0   \n",
       "\n",
       "   population  households  median_income  median_house_value ocean_proximity  \n",
       "0       322.0       126.0         8.3252            452600.0        NEAR BAY  \n",
       "1      2401.0      1138.0         8.3014            358500.0        NEAR BAY  \n",
       "2       496.0       177.0         7.2574            352100.0        NEAR BAY  \n",
       "3       558.0       219.0         5.6431            341300.0        NEAR BAY  \n",
       "4       565.0       259.0         3.8462            342200.0        NEAR BAY  "
      ]
     },
     "execution_count": 45,
     "metadata": {},
     "output_type": "execute_result"
    }
   ],
   "source": [
    "df.head()"
   ]
  },
  {
   "cell_type": "code",
   "execution_count": 46,
   "metadata": {},
   "outputs": [],
   "source": [
    "categorical_columns = df.select_dtypes(include=[\"object\"]).columns\n",
    "numerical_columns = df.select_dtypes(include=[\"number\"]).columns"
   ]
  },
  {
   "cell_type": "code",
   "execution_count": 47,
   "metadata": {},
   "outputs": [
    {
     "name": "stdout",
     "output_type": "stream",
     "text": [
      "Index(['ocean_proximity'], dtype='object') Index(['longitude', 'latitude', 'housing_median_age', 'total_rooms',\n",
      "       'total_bedrooms', 'population', 'households', 'median_income',\n",
      "       'median_house_value'],\n",
      "      dtype='object')\n"
     ]
    }
   ],
   "source": [
    "print(categorical_columns, numerical_columns)"
   ]
  },
  {
   "cell_type": "code",
   "execution_count": 48,
   "metadata": {},
   "outputs": [
    {
     "name": "stdout",
     "output_type": "stream",
     "text": [
      "Column: ocean_proximity\n",
      "ocean_proximity\n",
      "<1H OCEAN     9136\n",
      "INLAND        6551\n",
      "NEAR OCEAN    2658\n",
      "NEAR BAY      2290\n",
      "ISLAND           5\n",
      "Name: count, dtype: int64\n"
     ]
    }
   ],
   "source": [
    "for c in categorical_columns:\n",
    "    print(f\"Column: {c}\")\n",
    "    print(df[c].value_counts())"
   ]
  },
  {
   "cell_type": "code",
   "execution_count": 49,
   "metadata": {},
   "outputs": [],
   "source": [
    "columns = ['latitude', 'longitude', 'housing_median_age',\n",
    "'total_rooms', 'total_bedrooms', 'population', 'households', 'median_income',\n",
    "'median_house_value']"
   ]
  },
  {
   "cell_type": "code",
   "execution_count": 50,
   "metadata": {},
   "outputs": [],
   "source": [
    "filtered_df = df[columns]\n",
    "filtered_df = df[df['ocean_proximity'].isin(['<1H OCEAN', 'INLAND'])]"
   ]
  },
  {
   "cell_type": "code",
   "execution_count": 51,
   "metadata": {},
   "outputs": [
    {
     "data": {
      "text/plain": [
       "15687"
      ]
     },
     "execution_count": 51,
     "metadata": {},
     "output_type": "execute_result"
    }
   ],
   "source": [
    "len(filtered_df)"
   ]
  },
  {
   "cell_type": "code",
   "execution_count": 52,
   "metadata": {},
   "outputs": [
    {
     "name": "stderr",
     "output_type": "stream",
     "text": [
      "c:\\Users\\Dell\\AppData\\Local\\pypoetry\\Cache\\virtualenvs\\machine-learning-zoomcamp-23-gSc8i9dl-py3.9\\lib\\site-packages\\seaborn\\_oldcore.py:1498: FutureWarning: is_categorical_dtype is deprecated and will be removed in a future version. Use isinstance(dtype, CategoricalDtype) instead\n",
      "  if pd.api.types.is_categorical_dtype(vector):\n",
      "c:\\Users\\Dell\\AppData\\Local\\pypoetry\\Cache\\virtualenvs\\machine-learning-zoomcamp-23-gSc8i9dl-py3.9\\lib\\site-packages\\seaborn\\_oldcore.py:1119: FutureWarning: use_inf_as_na option is deprecated and will be removed in a future version. Convert inf values to NaN before operating instead.\n",
      "  with pd.option_context('mode.use_inf_as_na', True):\n"
     ]
    },
    {
     "data": {
      "text/plain": [
       "<Axes: xlabel='median_house_value', ylabel='Count'>"
      ]
     },
     "execution_count": 52,
     "metadata": {},
     "output_type": "execute_result"
    },
    {
     "data": {
      "image/png": "[encoded data removed]",
      "text/plain": [
       "<Figure size 640x480 with 1 Axes>"
      ]
     },
     "metadata": {},
     "output_type": "display_data"
    }
   ],
   "source": [
    "sns.histplot(filtered_df.median_house_value)"
   ]
  },
  {
   "cell_type": "markdown",
   "metadata": {},
   "source": [
    "Question 1"
   ]
  },
  {
   "cell_type": "code",
   "execution_count": 53,
   "metadata": {},
   "outputs": [
    {
     "data": {
      "text/plain": [
       "longitude               0\n",
       "latitude                0\n",
       "housing_median_age      0\n",
       "total_rooms             0\n",
       "total_bedrooms        157\n",
       "population              0\n",
       "households              0\n",
       "median_income           0\n",
       "median_house_value      0\n",
       "ocean_proximity         0\n",
       "dtype: int64"
      ]
     },
     "execution_count": 53,
     "metadata": {},
     "output_type": "execute_result"
    }
   ],
   "source": [
    "filtered_df.isnull().sum()"
   ]
  },
  {
   "cell_type": "markdown",
   "metadata": {},
   "source": [
    "Question 2"
   ]
  },
  {
   "cell_type": "code",
   "execution_count": 54,
   "metadata": {},
   "outputs": [
    {
     "data": {
      "text/plain": [
       "1195.0"
      ]
     },
     "execution_count": 54,
     "metadata": {},
     "output_type": "execute_result"
    }
   ],
   "source": [
    "filtered_df[\"population\"].median()"
   ]
  },
  {
   "cell_type": "markdown",
   "metadata": {},
   "source": [
    "Question 3"
   ]
  },
  {
   "cell_type": "code",
   "execution_count": 55,
   "metadata": {},
   "outputs": [
    {
     "name": "stdout",
     "output_type": "stream",
     "text": [
      "15687 9413 3137 3137\n"
     ]
    }
   ],
   "source": [
    "np.random.seed(42)\n",
    "n = len(filtered_df)\n",
    "n_test = int(0.2*n) \n",
    "n_val = int(0.2*n)\n",
    "n_train = n - n_test - n_val \n",
    "\n",
    "print(n, n_train, n_test, n_val)"
   ]
  },
  {
   "cell_type": "code",
   "execution_count": 56,
   "metadata": {},
   "outputs": [
    {
     "name": "stdout",
     "output_type": "stream",
     "text": [
      "Shape of validation dataset: (3137, 10)\n",
      "Shape of test dataset: (3137, 10)\n",
      "Shape of train dataset: (9413, 10)\n"
     ]
    }
   ],
   "source": [
    "idx = np.arange(n)\n",
    "np.random.shuffle(idx)\n",
    "\n",
    "filtered_df_val = filtered_df.iloc[idx[:n_val]]\n",
    "filtered_df_test = filtered_df.iloc[idx[n_val:n_val+n_test]]\n",
    "filtered_df_train = filtered_df.iloc[idx[n_val+n_test:]]\n",
    "\n",
    "print(f\"Shape of validation dataset: {filtered_df_val.shape}\")\n",
    "print(f\"Shape of test dataset: {filtered_df_test.shape}\")\n",
    "print(f\"Shape of train dataset: {filtered_df_train.shape}\")"
   ]
  },
  {
   "cell_type": "code",
   "execution_count": 57,
   "metadata": {},
   "outputs": [],
   "source": [
    "filtered_df_train = filtered_df_train.reset_index(drop=True)\n",
    "filtered_df_val = filtered_df_val.reset_index(drop=True)\n",
    "filtered_df_test = filtered_df_test.reset_index(drop=True)"
   ]
  },
  {
   "cell_type": "code",
   "execution_count": 58,
   "metadata": {},
   "outputs": [
    {
     "name": "stdout",
     "output_type": "stream",
     "text": [
      "Length of y_train: 9413\n",
      "Length of y_test: 3137\n",
      "Length of y_val: 3137\n"
     ]
    }
   ],
   "source": [
    "y_train = np.log1p(filtered_df_train.median_house_value.values)\n",
    "y_test = np.log1p(filtered_df_test.median_house_value.values)\n",
    "y_val = np.log1p(filtered_df_val.median_house_value.values)\n",
    "\n",
    "print(f\"Length of y_train: {len(y_train)}\")\n",
    "print(f\"Length of y_test: {len(y_test)}\")\n",
    "print(f\"Length of y_val: {len(y_val)}\")"
   ]
  },
  {
   "cell_type": "code",
   "execution_count": 59,
   "metadata": {},
   "outputs": [],
   "source": [
    "del filtered_df_train[\"median_house_value\"]\n",
    "del filtered_df_test[\"median_house_value\"]\n",
    "del filtered_df_val[\"median_house_value\"]"
   ]
  },
  {
   "cell_type": "code",
   "execution_count": 65,
   "metadata": {},
   "outputs": [],
   "source": [
    "ocean_proximity_values = list(filtered_df.ocean_proximity.value_counts().head().index)"
   ]
  },
  {
   "cell_type": "code",
   "execution_count": 72,
   "metadata": {},
   "outputs": [],
   "source": [
    "def prepare_X(df):\n",
    "    df_num = df.copy()\n",
    "\n",
    "    for v in ocean_proximity_values:\n",
    "        df_num[f\"ocean_proximity_{v}\"] = (df.ocean_proximity == v).astype(\"int\")\n",
    "\n",
    "    del df_num[\"ocean_proximity\"]\n",
    "    return df_num.fillna(0).values "
   ]
  },
  {
   "cell_type": "code",
   "execution_count": 73,
   "metadata": {},
   "outputs": [],
   "source": [
    "def train_linear_regression(X, y):\n",
    "    ones = np.ones(X.shape[0])\n",
    "    X = np.column_stack([ones, X])\n",
    "    \n",
    "    XTX = X.T.dot(X)\n",
    "    XTX_inv = np.linalg.inv(XTX)\n",
    "    w = XTX_inv.dot(X.T).dot(y)\n",
    "\n",
    "    w_0 = w[0]\n",
    "    w_full = w[1:]\n",
    "\n",
    "    return w_0, w_full "
   ]
  },
  {
   "cell_type": "code",
   "execution_count": 74,
   "metadata": {},
   "outputs": [],
   "source": [
    "def rmse(y, y_pred):\n",
    "    error = y - y_pred \n",
    "    se = error**2 \n",
    "    mse = se.mean()\n",
    "    return np.sqrt(mse)"
   ]
  },
  {
   "cell_type": "code",
   "execution_count": 75,
   "metadata": {},
   "outputs": [],
   "source": [
    "X_train = prepare_X(filtered_df_train)\n",
    "X_test = prepare_X(filtered_df_test)\n",
    "X_val = prepare_X(filtered_df_val)"
   ]
  },
  {
   "cell_type": "code",
   "execution_count": 76,
   "metadata": {},
   "outputs": [],
   "source": [
    "W0, W_full = train_linear_regression(X_train, y_train)"
   ]
  },
  {
   "cell_type": "code",
   "execution_count": 77,
   "metadata": {},
   "outputs": [
    {
     "data": {
      "text/plain": [
       "53.40547594224753"
      ]
     },
     "execution_count": 77,
     "metadata": {},
     "output_type": "execute_result"
    }
   ],
   "source": [
    "y_val_pred = W0 + X_val.dot(W_full)\n",
    "rmse(y_val, y_val_pred)"
   ]
  },
  {
   "cell_type": "code",
   "execution_count": 78,
   "metadata": {},
   "outputs": [],
   "source": [
    "def prepare_X(df):\n",
    "    df_num = df.copy()\n",
    "\n",
    "    for v in ocean_proximity_values:\n",
    "        df_num[f\"ocean_proximity_{v}\"] = (df.ocean_proximity == v).astype(\"int\")\n",
    "\n",
    "    del df_num[\"ocean_proximity\"]\n",
    "    return df_num.fillna(df_num.mean()).values "
   ]
  },
  {
   "cell_type": "code",
   "execution_count": 79,
   "metadata": {},
   "outputs": [],
   "source": [
    "X_train = prepare_X(filtered_df_train)\n",
    "X_test = prepare_X(filtered_df_test)\n",
    "X_val = prepare_X(filtered_df_val)"
   ]
  },
  {
   "cell_type": "code",
   "execution_count": 80,
   "metadata": {},
   "outputs": [],
   "source": [
    "W0, W_full = train_linear_regression(X_train, y_train)"
   ]
  },
  {
   "cell_type": "code",
   "execution_count": 81,
   "metadata": {},
   "outputs": [
    {
     "data": {
      "text/plain": [
       "19.73128574275605"
      ]
     },
     "execution_count": 81,
     "metadata": {},
     "output_type": "execute_result"
    }
   ],
   "source": [
    "y_val_pred = W0 + X_val.dot(W_full)\n",
    "rmse(y_val, y_val_pred)"
   ]
  },
  {
   "cell_type": "code",
   "execution_count": 94,
   "metadata": {},
   "outputs": [],
   "source": [
    "def prepare_X(df):\n",
    "    df_num = df.copy()\n",
    "\n",
    "    for v in ocean_proximity_values:\n",
    "        df_num[f\"ocean_proximity_{v}\"] = (df.ocean_proximity == v).astype(\"int\")\n",
    "\n",
    "    del df_num[\"ocean_proximity\"]\n",
    "    return df_num.fillna(0).values "
   ]
  },
  {
   "cell_type": "code",
   "execution_count": 83,
   "metadata": {},
   "outputs": [],
   "source": [
    "def train_linear_regression_reg(X, y, r=0.001):\n",
    "    \"\"\"Train a linear regression model with regularization\"\"\"\n",
    "    ones = np.ones(X.shape[0])\n",
    "    X = np.column_stack([ones, X])\n",
    "    \n",
    "    XTX = X.T.dot(X)\n",
    "    XTX = XTX + r*np.eye(XTX.shape[0])\n",
    "    XTX_inv = np.linalg.inv(XTX)\n",
    "    w = XTX_inv.dot(X.T).dot(y)\n",
    "\n",
    "    w_0 = w[0]\n",
    "    w_full = w[1:]\n",
    "\n",
    "    return w_0, w_full "
   ]
  },
  {
   "cell_type": "code",
   "execution_count": 84,
   "metadata": {},
   "outputs": [
    {
     "name": "stdout",
     "output_type": "stream",
     "text": [
      "For r=0: RMSE score = 53.40547594224753\n",
      "For r=1e-06: RMSE score = 0.3188733562917852\n",
      "For r=0.0001: RMSE score = 0.3188734594295471\n",
      "For r=0.001: RMSE score = 0.3188734951974854\n",
      "For r=0.01: RMSE score = 0.3188738643313666\n",
      "For r=0.1: RMSE score = 0.3188783737718456\n",
      "For r=1: RMSE score = 0.3189106080620089\n",
      "For r=5: RMSE score = 0.318933164856659\n",
      "For r=10: RMSE score = 0.318936301550423\n",
      "------\n",
      "Best r = 1e-06 with score 0.3188733562917852\n"
     ]
    }
   ],
   "source": [
    "# Iterative over a non-exhaustive list of values\n",
    "best_score = np.inf\n",
    "best_r = 0 \n",
    "for r in [0, 0.000001, 0.0001, 0.001, 0.01, 0.1, 1, 5, 10]:\n",
    "    X_train = prepare_X(filtered_df_train)\n",
    "    W0, W = train_linear_regression_reg(X_train, y_train, r=r)\n",
    "\n",
    "    X_val = prepare_X(filtered_df_val)\n",
    "    y_val_pred = W0 + X_val.dot(W)\n",
    "    val_rmse_score = rmse(y_val, y_val_pred)\n",
    "\n",
    "    print(f\"For r={r}: RMSE score = {val_rmse_score}\")\n",
    "\n",
    "    if val_rmse_score < best_score:\n",
    "        best_score = val_rmse_score \n",
    "        best_r = r\n",
    "\n",
    "print(\"------\")\n",
    "print(f\"Best r = {best_r} with score {best_score}\")"
   ]
  },
  {
   "cell_type": "code",
   "execution_count": 95,
   "metadata": {},
   "outputs": [
    {
     "name": "stdout",
     "output_type": "stream",
     "text": [
      "15687 9413 3137 3137\n"
     ]
    }
   ],
   "source": [
    "np.random.seed(9)\n",
    "n = len(filtered_df)\n",
    "n_test = int(0.2*n) \n",
    "n_val = int(0.2*n)\n",
    "n_train = n - n_test - n_val \n",
    "\n",
    "print(n, n_train, n_test, n_val)"
   ]
  },
  {
   "cell_type": "code",
   "execution_count": 96,
   "metadata": {},
   "outputs": [
    {
     "name": "stdout",
     "output_type": "stream",
     "text": [
      "Shape of validation dataset: (3137, 10)\n",
      "Shape of test dataset: (3137, 10)\n",
      "Shape of train dataset: (9413, 10)\n"
     ]
    }
   ],
   "source": [
    "idx = np.arange(n)\n",
    "np.random.shuffle(idx)\n",
    "\n",
    "filtered_df_val = filtered_df.iloc[idx[:n_val]]\n",
    "filtered_df_test = filtered_df.iloc[idx[n_val:n_val+n_test]]\n",
    "filtered_df_train = filtered_df.iloc[idx[n_val+n_test:]]\n",
    "\n",
    "print(f\"Shape of validation dataset: {filtered_df_val.shape}\")\n",
    "print(f\"Shape of test dataset: {filtered_df_test.shape}\")\n",
    "print(f\"Shape of train dataset: {filtered_df_train.shape}\")"
   ]
  },
  {
   "cell_type": "code",
   "execution_count": 97,
   "metadata": {},
   "outputs": [],
   "source": [
    "filtered_df_train_full = pd.concat([filtered_df_train, filtered_df_val])"
   ]
  },
  {
   "cell_type": "code",
   "execution_count": 98,
   "metadata": {},
   "outputs": [],
   "source": [
    "filtered_df_train_full = filtered_df_train_full.reset_index(drop=True)\n",
    "filtered_df_test = filtered_df_test.reset_index(drop=True)"
   ]
  },
  {
   "cell_type": "code",
   "execution_count": 99,
   "metadata": {},
   "outputs": [
    {
     "data": {
      "text/plain": [
       "(12550, 10)"
      ]
     },
     "execution_count": 99,
     "metadata": {},
     "output_type": "execute_result"
    }
   ],
   "source": [
    "filtered_df_train_full.shape "
   ]
  },
  {
   "cell_type": "code",
   "execution_count": 100,
   "metadata": {},
   "outputs": [
    {
     "name": "stdout",
     "output_type": "stream",
     "text": [
      "Length of y_train_full: 12550\n",
      "Length of y_test: 3137\n",
      "Length of y_val: 3137\n"
     ]
    }
   ],
   "source": [
    "y_train_full = np.log1p(filtered_df_train_full.median_house_value.values)\n",
    "y_test = np.log1p(filtered_df_test.median_house_value.values)\n",
    "\n",
    "print(f\"Length of y_train_full: {len(y_train_full)}\")\n",
    "print(f\"Length of y_test: {len(y_test)}\")\n",
    "print(f\"Length of y_val: {len(y_val)}\")"
   ]
  },
  {
   "cell_type": "code",
   "execution_count": 101,
   "metadata": {},
   "outputs": [],
   "source": [
    "del filtered_df_train_full[\"median_house_value\"]\n",
    "del filtered_df_test[\"median_house_value\"]"
   ]
  },
  {
   "cell_type": "code",
   "execution_count": 102,
   "metadata": {},
   "outputs": [
    {
     "data": {
      "text/plain": [
       "0.7304574254486865"
      ]
     },
     "execution_count": 102,
     "metadata": {},
     "output_type": "execute_result"
    }
   ],
   "source": [
    "X_train_full = prepare_X(filtered_df_train_full)\n",
    "W0, W = train_linear_regression_reg(X_train_full, y_train_full, r=0.001)\n",
    "\n",
    "X_test = prepare_X(filtered_df_test)\n",
    "y_pred_test = W0 + X_test.dot(W)\n",
    "\n",
    "rmse(y_val, y_pred_test)"
   ]
  },
  {
   "cell_type": "code",
   "execution_count": null,
   "metadata": {},
   "outputs": [],
   "source": []
  }
 ],
 "metadata": {
  "kernelspec": {
   "display_name": "machine-learning-zoomcamp-23-gSc8i9dl-py3.9",
   "language": "python",
   "name": "python3"
  },
  "language_info": {
   "codemirror_mode": {
    "name": "ipython",
    "version": 3
   },
   "file_extension": ".py",
   "mimetype": "text/x-python",
   "name": "python",
   "nbconvert_exporter": "python",
   "pygments_lexer": "ipython3",
   "version": "3.9.10"
  },
  "orig_nbformat": 4
 },
 "nbformat": 4,
 "nbformat_minor": 2
}
