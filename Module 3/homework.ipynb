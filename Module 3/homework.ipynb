{
 "cells": [
  {
   "cell_type": "code",
   "execution_count": 1,
   "metadata": {},
   "outputs": [],
   "source": [
    "import seaborn as sns\n",
    "import numpy as np \n",
    "import pandas as pd\n",
    "import matplotlib.pyplot as plt "
   ]
  },
  {
   "cell_type": "code",
   "execution_count": 63,
   "metadata": {},
   "outputs": [
    {
     "data": {
      "text/html": [
       "<div>\n",
       "<style scoped>\n",
       "    .dataframe tbody tr th:only-of-type {\n",
       "        vertical-align: middle;\n",
       "    }\n",
       "\n",
       "    .dataframe tbody tr th {\n",
       "        vertical-align: top;\n",
       "    }\n",
       "\n",
       "    .dataframe thead th {\n",
       "        text-align: right;\n",
       "    }\n",
       "</style>\n",
       "<table border=\"1\" class=\"dataframe\">\n",
       "  <thead>\n",
       "    <tr style=\"text-align: right;\">\n",
       "      <th></th>\n",
       "      <th>Make</th>\n",
       "      <th>Model</th>\n",
       "      <th>Year</th>\n",
       "      <th>Engine Fuel Type</th>\n",
       "      <th>Engine HP</th>\n",
       "      <th>Engine Cylinders</th>\n",
       "      <th>Transmission Type</th>\n",
       "      <th>Driven_Wheels</th>\n",
       "      <th>Number of Doors</th>\n",
       "      <th>Market Category</th>\n",
       "      <th>Vehicle Size</th>\n",
       "      <th>Vehicle Style</th>\n",
       "      <th>highway MPG</th>\n",
       "      <th>city mpg</th>\n",
       "      <th>Popularity</th>\n",
       "      <th>MSRP</th>\n",
       "    </tr>\n",
       "  </thead>\n",
       "  <tbody>\n",
       "    <tr>\n",
       "      <th>0</th>\n",
       "      <td>BMW</td>\n",
       "      <td>1 Series M</td>\n",
       "      <td>2011</td>\n",
       "      <td>premium unleaded (required)</td>\n",
       "      <td>335.0</td>\n",
       "      <td>6.0</td>\n",
       "      <td>MANUAL</td>\n",
       "      <td>rear wheel drive</td>\n",
       "      <td>2.0</td>\n",
       "      <td>Factory Tuner,Luxury,High-Performance</td>\n",
       "      <td>Compact</td>\n",
       "      <td>Coupe</td>\n",
       "      <td>26</td>\n",
       "      <td>19</td>\n",
       "      <td>3916</td>\n",
       "      <td>46135</td>\n",
       "    </tr>\n",
       "    <tr>\n",
       "      <th>1</th>\n",
       "      <td>BMW</td>\n",
       "      <td>1 Series</td>\n",
       "      <td>2011</td>\n",
       "      <td>premium unleaded (required)</td>\n",
       "      <td>300.0</td>\n",
       "      <td>6.0</td>\n",
       "      <td>MANUAL</td>\n",
       "      <td>rear wheel drive</td>\n",
       "      <td>2.0</td>\n",
       "      <td>Luxury,Performance</td>\n",
       "      <td>Compact</td>\n",
       "      <td>Convertible</td>\n",
       "      <td>28</td>\n",
       "      <td>19</td>\n",
       "      <td>3916</td>\n",
       "      <td>40650</td>\n",
       "    </tr>\n",
       "    <tr>\n",
       "      <th>2</th>\n",
       "      <td>BMW</td>\n",
       "      <td>1 Series</td>\n",
       "      <td>2011</td>\n",
       "      <td>premium unleaded (required)</td>\n",
       "      <td>300.0</td>\n",
       "      <td>6.0</td>\n",
       "      <td>MANUAL</td>\n",
       "      <td>rear wheel drive</td>\n",
       "      <td>2.0</td>\n",
       "      <td>Luxury,High-Performance</td>\n",
       "      <td>Compact</td>\n",
       "      <td>Coupe</td>\n",
       "      <td>28</td>\n",
       "      <td>20</td>\n",
       "      <td>3916</td>\n",
       "      <td>36350</td>\n",
       "    </tr>\n",
       "    <tr>\n",
       "      <th>3</th>\n",
       "      <td>BMW</td>\n",
       "      <td>1 Series</td>\n",
       "      <td>2011</td>\n",
       "      <td>premium unleaded (required)</td>\n",
       "      <td>230.0</td>\n",
       "      <td>6.0</td>\n",
       "      <td>MANUAL</td>\n",
       "      <td>rear wheel drive</td>\n",
       "      <td>2.0</td>\n",
       "      <td>Luxury,Performance</td>\n",
       "      <td>Compact</td>\n",
       "      <td>Coupe</td>\n",
       "      <td>28</td>\n",
       "      <td>18</td>\n",
       "      <td>3916</td>\n",
       "      <td>29450</td>\n",
       "    </tr>\n",
       "    <tr>\n",
       "      <th>4</th>\n",
       "      <td>BMW</td>\n",
       "      <td>1 Series</td>\n",
       "      <td>2011</td>\n",
       "      <td>premium unleaded (required)</td>\n",
       "      <td>230.0</td>\n",
       "      <td>6.0</td>\n",
       "      <td>MANUAL</td>\n",
       "      <td>rear wheel drive</td>\n",
       "      <td>2.0</td>\n",
       "      <td>Luxury</td>\n",
       "      <td>Compact</td>\n",
       "      <td>Convertible</td>\n",
       "      <td>28</td>\n",
       "      <td>18</td>\n",
       "      <td>3916</td>\n",
       "      <td>34500</td>\n",
       "    </tr>\n",
       "  </tbody>\n",
       "</table>\n",
       "</div>"
      ],
      "text/plain": [
       "  Make       Model  Year             Engine Fuel Type  Engine HP  \\\n",
       "0  BMW  1 Series M  2011  premium unleaded (required)      335.0   \n",
       "1  BMW    1 Series  2011  premium unleaded (required)      300.0   \n",
       "2  BMW    1 Series  2011  premium unleaded (required)      300.0   \n",
       "3  BMW    1 Series  2011  premium unleaded (required)      230.0   \n",
       "4  BMW    1 Series  2011  premium unleaded (required)      230.0   \n",
       "\n",
       "   Engine Cylinders Transmission Type     Driven_Wheels  Number of Doors  \\\n",
       "0               6.0            MANUAL  rear wheel drive              2.0   \n",
       "1               6.0            MANUAL  rear wheel drive              2.0   \n",
       "2               6.0            MANUAL  rear wheel drive              2.0   \n",
       "3               6.0            MANUAL  rear wheel drive              2.0   \n",
       "4               6.0            MANUAL  rear wheel drive              2.0   \n",
       "\n",
       "                         Market Category Vehicle Size Vehicle Style  \\\n",
       "0  Factory Tuner,Luxury,High-Performance      Compact         Coupe   \n",
       "1                     Luxury,Performance      Compact   Convertible   \n",
       "2                Luxury,High-Performance      Compact         Coupe   \n",
       "3                     Luxury,Performance      Compact         Coupe   \n",
       "4                                 Luxury      Compact   Convertible   \n",
       "\n",
       "   highway MPG  city mpg  Popularity   MSRP  \n",
       "0           26        19        3916  46135  \n",
       "1           28        19        3916  40650  \n",
       "2           28        20        3916  36350  \n",
       "3           28        18        3916  29450  \n",
       "4           28        18        3916  34500  "
      ]
     },
     "execution_count": 63,
     "metadata": {},
     "output_type": "execute_result"
    }
   ],
   "source": [
    "df = pd.read_csv(\"../Module 2/dataset/car_dataset.csv\")\n",
    "df.head()"
   ]
  },
  {
   "cell_type": "code",
   "execution_count": 64,
   "metadata": {},
   "outputs": [
    {
     "name": "stdout",
     "output_type": "stream",
     "text": [
      "Index(['Make', 'Model', 'Year', 'Engine Fuel Type', 'Engine HP',\n",
      "       'Engine Cylinders', 'Transmission Type', 'Driven_Wheels',\n",
      "       'Number of Doors', 'Market Category', 'Vehicle Size', 'Vehicle Style',\n",
      "       'highway MPG', 'city mpg', 'Popularity', 'MSRP'],\n",
      "      dtype='object')\n"
     ]
    }
   ],
   "source": [
    "print(df.columns)"
   ]
  },
  {
   "cell_type": "code",
   "execution_count": 65,
   "metadata": {},
   "outputs": [
    {
     "name": "stdout",
     "output_type": "stream",
     "text": [
      "(11914, 16)\n"
     ]
    }
   ],
   "source": [
    "print(df.shape)"
   ]
  },
  {
   "cell_type": "code",
   "execution_count": 66,
   "metadata": {},
   "outputs": [
    {
     "name": "stdout",
     "output_type": "stream",
     "text": [
      "<class 'pandas.core.frame.DataFrame'>\n",
      "RangeIndex: 11914 entries, 0 to 11913\n",
      "Data columns (total 16 columns):\n",
      " #   Column             Non-Null Count  Dtype  \n",
      "---  ------             --------------  -----  \n",
      " 0   Make               11914 non-null  object \n",
      " 1   Model              11914 non-null  object \n",
      " 2   Year               11914 non-null  int64  \n",
      " 3   Engine Fuel Type   11911 non-null  object \n",
      " 4   Engine HP          11845 non-null  float64\n",
      " 5   Engine Cylinders   11884 non-null  float64\n",
      " 6   Transmission Type  11914 non-null  object \n",
      " 7   Driven_Wheels      11914 non-null  object \n",
      " 8   Number of Doors    11908 non-null  float64\n",
      " 9   Market Category    8172 non-null   object \n",
      " 10  Vehicle Size       11914 non-null  object \n",
      " 11  Vehicle Style      11914 non-null  object \n",
      " 12  highway MPG        11914 non-null  int64  \n",
      " 13  city mpg           11914 non-null  int64  \n",
      " 14  Popularity         11914 non-null  int64  \n",
      " 15  MSRP               11914 non-null  int64  \n",
      "dtypes: float64(3), int64(5), object(8)\n",
      "memory usage: 1.5+ MB\n",
      "None\n"
     ]
    }
   ],
   "source": [
    "print(df.info())"
   ]
  },
  {
   "cell_type": "code",
   "execution_count": 67,
   "metadata": {},
   "outputs": [
    {
     "name": "stdout",
     "output_type": "stream",
     "text": [
      "10\n"
     ]
    }
   ],
   "source": [
    "columns_to_use = [\"Make\", \"Model\", \"Year\", \"Engine HP\", \"Engine Cylinders\",\n",
    "                  \"Transmission Type\", \"Vehicle Style\", \"highway MPG\", \"city mpg\", \"MSRP\"]\n",
    "\n",
    "print(len(columns_to_use))"
   ]
  },
  {
   "cell_type": "code",
   "execution_count": 68,
   "metadata": {},
   "outputs": [
    {
     "name": "stdout",
     "output_type": "stream",
     "text": [
      "(11914, 10)\n",
      "<class 'pandas.core.frame.DataFrame'>\n",
      "RangeIndex: 11914 entries, 0 to 11913\n",
      "Data columns (total 10 columns):\n",
      " #   Column             Non-Null Count  Dtype  \n",
      "---  ------             --------------  -----  \n",
      " 0   Make               11914 non-null  object \n",
      " 1   Model              11914 non-null  object \n",
      " 2   Year               11914 non-null  int64  \n",
      " 3   Engine HP          11845 non-null  float64\n",
      " 4   Engine Cylinders   11884 non-null  float64\n",
      " 5   Transmission Type  11914 non-null  object \n",
      " 6   Vehicle Style      11914 non-null  object \n",
      " 7   highway MPG        11914 non-null  int64  \n",
      " 8   city mpg           11914 non-null  int64  \n",
      " 9   MSRP               11914 non-null  int64  \n",
      "dtypes: float64(2), int64(4), object(4)\n",
      "memory usage: 930.9+ KB\n",
      "None\n"
     ]
    }
   ],
   "source": [
    "filtered_df = df[columns_to_use]\n",
    "print(filtered_df.shape)\n",
    "print(filtered_df.info())"
   ]
  },
  {
   "cell_type": "code",
   "execution_count": 69,
   "metadata": {},
   "outputs": [],
   "source": [
    "filtered_df.columns = filtered_df.columns.str.replace(\" \", \"_\").str.lower()"
   ]
  },
  {
   "cell_type": "code",
   "execution_count": 70,
   "metadata": {},
   "outputs": [
    {
     "data": {
      "text/html": [
       "<div>\n",
       "<style scoped>\n",
       "    .dataframe tbody tr th:only-of-type {\n",
       "        vertical-align: middle;\n",
       "    }\n",
       "\n",
       "    .dataframe tbody tr th {\n",
       "        vertical-align: top;\n",
       "    }\n",
       "\n",
       "    .dataframe thead th {\n",
       "        text-align: right;\n",
       "    }\n",
       "</style>\n",
       "<table border=\"1\" class=\"dataframe\">\n",
       "  <thead>\n",
       "    <tr style=\"text-align: right;\">\n",
       "      <th></th>\n",
       "      <th>2123</th>\n",
       "    </tr>\n",
       "  </thead>\n",
       "  <tbody>\n",
       "    <tr>\n",
       "      <th>make</th>\n",
       "      <td>Volkswagen</td>\n",
       "    </tr>\n",
       "    <tr>\n",
       "      <th>model</th>\n",
       "      <td>Cabriolet</td>\n",
       "    </tr>\n",
       "    <tr>\n",
       "      <th>year</th>\n",
       "      <td>1992</td>\n",
       "    </tr>\n",
       "    <tr>\n",
       "      <th>engine_hp</th>\n",
       "      <td>94.0</td>\n",
       "    </tr>\n",
       "    <tr>\n",
       "      <th>engine_cylinders</th>\n",
       "      <td>4.0</td>\n",
       "    </tr>\n",
       "    <tr>\n",
       "      <th>transmission_type</th>\n",
       "      <td>MANUAL</td>\n",
       "    </tr>\n",
       "    <tr>\n",
       "      <th>vehicle_style</th>\n",
       "      <td>Convertible</td>\n",
       "    </tr>\n",
       "    <tr>\n",
       "      <th>highway_mpg</th>\n",
       "      <td>29</td>\n",
       "    </tr>\n",
       "    <tr>\n",
       "      <th>city_mpg</th>\n",
       "      <td>22</td>\n",
       "    </tr>\n",
       "    <tr>\n",
       "      <th>msrp</th>\n",
       "      <td>2000</td>\n",
       "    </tr>\n",
       "  </tbody>\n",
       "</table>\n",
       "</div>"
      ],
      "text/plain": [
       "                          2123\n",
       "make                Volkswagen\n",
       "model                Cabriolet\n",
       "year                      1992\n",
       "engine_hp                 94.0\n",
       "engine_cylinders           4.0\n",
       "transmission_type       MANUAL\n",
       "vehicle_style      Convertible\n",
       "highway_mpg                 29\n",
       "city_mpg                    22\n",
       "msrp                      2000"
      ]
     },
     "execution_count": 70,
     "metadata": {},
     "output_type": "execute_result"
    }
   ],
   "source": [
    "filtered_df.sample().T "
   ]
  },
  {
   "cell_type": "code",
   "execution_count": 71,
   "metadata": {},
   "outputs": [],
   "source": [
    "filtered_df = filtered_df.fillna(0)"
   ]
  },
  {
   "cell_type": "code",
   "execution_count": 72,
   "metadata": {},
   "outputs": [
    {
     "data": {
      "text/plain": [
       "make                 0\n",
       "model                0\n",
       "year                 0\n",
       "engine_hp            0\n",
       "engine_cylinders     0\n",
       "transmission_type    0\n",
       "vehicle_style        0\n",
       "highway_mpg          0\n",
       "city_mpg             0\n",
       "msrp                 0\n",
       "dtype: int64"
      ]
     },
     "execution_count": 72,
     "metadata": {},
     "output_type": "execute_result"
    }
   ],
   "source": [
    "filtered_df.isnull().sum()"
   ]
  },
  {
   "cell_type": "code",
   "execution_count": 74,
   "metadata": {},
   "outputs": [],
   "source": [
    "filtered_df = filtered_df.rename(columns={\"msrp\": \"price\"})"
   ]
  },
  {
   "cell_type": "code",
   "execution_count": 75,
   "metadata": {},
   "outputs": [
    {
     "data": {
      "text/html": [
       "<div>\n",
       "<style scoped>\n",
       "    .dataframe tbody tr th:only-of-type {\n",
       "        vertical-align: middle;\n",
       "    }\n",
       "\n",
       "    .dataframe tbody tr th {\n",
       "        vertical-align: top;\n",
       "    }\n",
       "\n",
       "    .dataframe thead th {\n",
       "        text-align: right;\n",
       "    }\n",
       "</style>\n",
       "<table border=\"1\" class=\"dataframe\">\n",
       "  <thead>\n",
       "    <tr style=\"text-align: right;\">\n",
       "      <th></th>\n",
       "      <th>8211</th>\n",
       "    </tr>\n",
       "  </thead>\n",
       "  <tbody>\n",
       "    <tr>\n",
       "      <th>make</th>\n",
       "      <td>Dodge</td>\n",
       "    </tr>\n",
       "    <tr>\n",
       "      <th>model</th>\n",
       "      <td>Ram Van</td>\n",
       "    </tr>\n",
       "    <tr>\n",
       "      <th>year</th>\n",
       "      <td>2000</td>\n",
       "    </tr>\n",
       "    <tr>\n",
       "      <th>engine_hp</th>\n",
       "      <td>175.0</td>\n",
       "    </tr>\n",
       "    <tr>\n",
       "      <th>engine_cylinders</th>\n",
       "      <td>6.0</td>\n",
       "    </tr>\n",
       "    <tr>\n",
       "      <th>transmission_type</th>\n",
       "      <td>AUTOMATIC</td>\n",
       "    </tr>\n",
       "    <tr>\n",
       "      <th>vehicle_style</th>\n",
       "      <td>Cargo Van</td>\n",
       "    </tr>\n",
       "    <tr>\n",
       "      <th>highway_mpg</th>\n",
       "      <td>16</td>\n",
       "    </tr>\n",
       "    <tr>\n",
       "      <th>city_mpg</th>\n",
       "      <td>13</td>\n",
       "    </tr>\n",
       "    <tr>\n",
       "      <th>price</th>\n",
       "      <td>2348</td>\n",
       "    </tr>\n",
       "  </tbody>\n",
       "</table>\n",
       "</div>"
      ],
      "text/plain": [
       "                        8211\n",
       "make                   Dodge\n",
       "model                Ram Van\n",
       "year                    2000\n",
       "engine_hp              175.0\n",
       "engine_cylinders         6.0\n",
       "transmission_type  AUTOMATIC\n",
       "vehicle_style      Cargo Van\n",
       "highway_mpg               16\n",
       "city_mpg                  13\n",
       "price                   2348"
      ]
     },
     "execution_count": 75,
     "metadata": {},
     "output_type": "execute_result"
    }
   ],
   "source": [
    "filtered_df.sample().T "
   ]
  },
  {
   "cell_type": "markdown",
   "metadata": {},
   "source": [
    "Question 1 "
   ]
  },
  {
   "cell_type": "code",
   "execution_count": 76,
   "metadata": {},
   "outputs": [
    {
     "data": {
      "text/plain": [
       "transmission_type\n",
       "AUTOMATIC           8266\n",
       "MANUAL              2935\n",
       "AUTOMATED_MANUAL     626\n",
       "DIRECT_DRIVE          68\n",
       "UNKNOWN               19\n",
       "Name: count, dtype: int64"
      ]
     },
     "execution_count": 76,
     "metadata": {},
     "output_type": "execute_result"
    }
   ],
   "source": [
    "filtered_df[\"transmission_type\"].value_counts()"
   ]
  },
  {
   "cell_type": "markdown",
   "metadata": {},
   "source": [
    "Question 2"
   ]
  },
  {
   "cell_type": "code",
   "execution_count": 77,
   "metadata": {},
   "outputs": [
    {
     "name": "stdout",
     "output_type": "stream",
     "text": [
      "Index(['year', 'engine_hp', 'engine_cylinders', 'highway_mpg', 'city_mpg',\n",
      "       'price'],\n",
      "      dtype='object')\n"
     ]
    }
   ],
   "source": [
    "numerical_features = filtered_df.select_dtypes(include=[\"int64\", \"float64\"]).dtypes.index \n",
    "print(numerical_features)"
   ]
  },
  {
   "cell_type": "code",
   "execution_count": 78,
   "metadata": {},
   "outputs": [
    {
     "name": "stdout",
     "output_type": "stream",
     "text": [
      "                      year  engine_hp  engine_cylinders  highway_mpg  \\\n",
      "year              1.000000   0.338714         -0.040708     0.258240   \n",
      "engine_hp         0.338714   1.000000          0.774851    -0.415707   \n",
      "engine_cylinders -0.040708   0.774851          1.000000    -0.614541   \n",
      "highway_mpg       0.258240  -0.415707         -0.614541     1.000000   \n",
      "city_mpg          0.198171  -0.424918         -0.587306     0.886829   \n",
      "price             0.227590   0.650095          0.526274    -0.160043   \n",
      "\n",
      "                  city_mpg     price  \n",
      "year              0.198171  0.227590  \n",
      "engine_hp        -0.424918  0.650095  \n",
      "engine_cylinders -0.587306  0.526274  \n",
      "highway_mpg       0.886829 -0.160043  \n",
      "city_mpg          1.000000 -0.157676  \n",
      "price            -0.157676  1.000000  \n"
     ]
    }
   ],
   "source": [
    "corr_matrix = filtered_df[numerical_features].corr()\n",
    "print(corr_matrix)"
   ]
  },
  {
   "cell_type": "code",
   "execution_count": 79,
   "metadata": {},
   "outputs": [
    {
     "name": "stdout",
     "output_type": "stream",
     "text": [
      "['highway_mpg', 'city_mpg'] 0.8868294962591425\n"
     ]
    }
   ],
   "source": [
    "test_corr_features = [\n",
    "    [\"engine_hp\", \"year\"],\n",
    "    [\"engine_hp\", \"engine_cylinders\"],\n",
    "    [\"highway_mpg\", \"engine_cylinders\"],\n",
    "    [\"highway_mpg\", \"city_mpg\"]\n",
    "]\n",
    "\n",
    "best_corr = -np.inf \n",
    "best_id = 0 \n",
    "\n",
    "for id, feat in enumerate(test_corr_features):\n",
    "    corr = corr_matrix.loc[feat[0], feat[1]]\n",
    "    if corr > best_corr:\n",
    "        best_corr = corr \n",
    "        best_id = id \n",
    "\n",
    "print(test_corr_features[best_id], best_corr)"
   ]
  },
  {
   "cell_type": "markdown",
   "metadata": {},
   "source": [
    "Question 3"
   ]
  },
  {
   "cell_type": "code",
   "execution_count": 17,
   "metadata": {},
   "outputs": [
    {
     "name": "stderr",
     "output_type": "stream",
     "text": [
      "c:\\Users\\Dell\\AppData\\Local\\pypoetry\\Cache\\virtualenvs\\machine-learning-zoomcamp-23-gSc8i9dl-py3.9\\lib\\site-packages\\seaborn\\_oldcore.py:1498: FutureWarning: is_categorical_dtype is deprecated and will be removed in a future version. Use isinstance(dtype, CategoricalDtype) instead\n",
      "  if pd.api.types.is_categorical_dtype(vector):\n",
      "c:\\Users\\Dell\\AppData\\Local\\pypoetry\\Cache\\virtualenvs\\machine-learning-zoomcamp-23-gSc8i9dl-py3.9\\lib\\site-packages\\seaborn\\_oldcore.py:1119: FutureWarning: use_inf_as_na option is deprecated and will be removed in a future version. Convert inf values to NaN before operating instead.\n",
      "  with pd.option_context('mode.use_inf_as_na', True):\n"
     ]
    },
    {
     "data": {
      "text/plain": [
       "<Axes: xlabel='price', ylabel='Count'>"
      ]
     },
     "execution_count": 17,
     "metadata": {},
     "output_type": "execute_result"
    },
    {
     "data": {
      "image/png": "[encoded data removed]",
      "text/plain": [
       "<Figure size 640x480 with 1 Axes>"
      ]
     },
     "metadata": {},
     "output_type": "display_data"
    }
   ],
   "source": [
    "sns.histplot(filtered_df[\"price\"])"
   ]
  },
  {
   "cell_type": "code",
   "execution_count": 147,
   "metadata": {},
   "outputs": [
    {
     "data": {
      "text/plain": [
       "40594.737032063116"
      ]
     },
     "execution_count": 147,
     "metadata": {},
     "output_type": "execute_result"
    }
   ],
   "source": [
    "filtered_df[\"price\"].mean()"
   ]
  },
  {
   "cell_type": "code",
   "execution_count": 148,
   "metadata": {},
   "outputs": [],
   "source": [
    "filtered_df[\"above_average\"] = filtered_df[\"price\"].apply(lambda x: 1 if x > filtered_df[\"price\"].mean() else 0)"
   ]
  },
  {
   "cell_type": "code",
   "execution_count": 149,
   "metadata": {},
   "outputs": [
    {
     "data": {
      "text/plain": [
       "above_average\n",
       "0    8645\n",
       "1    3269\n",
       "Name: count, dtype: int64"
      ]
     },
     "execution_count": 149,
     "metadata": {},
     "output_type": "execute_result"
    }
   ],
   "source": [
    "filtered_df[\"above_average\"].value_counts()"
   ]
  },
  {
   "cell_type": "code",
   "execution_count": 150,
   "metadata": {},
   "outputs": [],
   "source": [
    "filtered_df_price = filtered_df[\"price\"]\n",
    "del filtered_df[\"price\"]"
   ]
  },
  {
   "cell_type": "code",
   "execution_count": 151,
   "metadata": {},
   "outputs": [],
   "source": [
    "from sklearn.model_selection import train_test_split "
   ]
  },
  {
   "cell_type": "code",
   "execution_count": 152,
   "metadata": {},
   "outputs": [],
   "source": [
    "filtered_df_full_train, filtered_df_test = train_test_split(filtered_df, test_size=0.2, random_state=42)\n",
    "filtered_df_train, filtered_df_val = train_test_split(filtered_df_full_train, test_size=0.25, random_state=42)"
   ]
  },
  {
   "cell_type": "code",
   "execution_count": 153,
   "metadata": {},
   "outputs": [],
   "source": [
    "filtered_df_train = filtered_df_train.reset_index(drop=True)\n",
    "filtered_df_test = filtered_df_test.reset_index(drop=True)\n",
    "filtered_df_val = filtered_df_val.reset_index(drop=True)"
   ]
  },
  {
   "cell_type": "code",
   "execution_count": 154,
   "metadata": {},
   "outputs": [
    {
     "name": "stdout",
     "output_type": "stream",
     "text": [
      "(7148, 10)\n",
      "(2383, 10)\n",
      "(2383, 10)\n"
     ]
    }
   ],
   "source": [
    "print(filtered_df_train.shape)\n",
    "print(filtered_df_test.shape)\n",
    "print(filtered_df_val.shape)"
   ]
  },
  {
   "cell_type": "code",
   "execution_count": 155,
   "metadata": {},
   "outputs": [],
   "source": [
    "y_train = filtered_df_train.above_average \n",
    "y_test = filtered_df_test.above_average \n",
    "y_val = filtered_df_val.above_average "
   ]
  },
  {
   "cell_type": "code",
   "execution_count": 156,
   "metadata": {},
   "outputs": [],
   "source": [
    "del filtered_df_train[\"above_average\"]\n",
    "del filtered_df_test[\"above_average\"]\n",
    "del filtered_df_val[\"above_average\"]"
   ]
  },
  {
   "cell_type": "markdown",
   "metadata": {},
   "source": [
    "Question 3 "
   ]
  },
  {
   "cell_type": "code",
   "execution_count": 157,
   "metadata": {},
   "outputs": [],
   "source": [
    "from sklearn.metrics import mutual_info_score  "
   ]
  },
  {
   "cell_type": "code",
   "execution_count": 158,
   "metadata": {},
   "outputs": [],
   "source": [
    "def mutual_info_score_train(series):\n",
    "    return mutual_info_score(series, y_train)"
   ]
  },
  {
   "cell_type": "code",
   "execution_count": 159,
   "metadata": {},
   "outputs": [
    {
     "name": "stdout",
     "output_type": "stream",
     "text": [
      "Index(['make', 'model', 'transmission_type', 'vehicle_style'], dtype='object')\n"
     ]
    }
   ],
   "source": [
    "categorical_columns = filtered_df_train.select_dtypes(include=[\"object\"]).dtypes.index \n",
    "print(categorical_columns)"
   ]
  },
  {
   "cell_type": "code",
   "execution_count": 160,
   "metadata": {},
   "outputs": [
    {
     "data": {
      "text/plain": [
       "model                0.462344\n",
       "make                 0.239769\n",
       "vehicle_style        0.084143\n",
       "transmission_type    0.020958\n",
       "dtype: float64"
      ]
     },
     "execution_count": 160,
     "metadata": {},
     "output_type": "execute_result"
    }
   ],
   "source": [
    "mutual_info_scores = filtered_df_train[categorical_columns].apply(mutual_info_churn_score)\n",
    "mutual_info_scores.sort_values(ascending=False)"
   ]
  },
  {
   "cell_type": "markdown",
   "metadata": {},
   "source": [
    "Question 4"
   ]
  },
  {
   "cell_type": "code",
   "execution_count": 195,
   "metadata": {},
   "outputs": [],
   "source": [
    "from sklearn.feature_extraction import DictVectorizer"
   ]
  },
  {
   "cell_type": "code",
   "execution_count": 196,
   "metadata": {},
   "outputs": [],
   "source": [
    "train_dicts = filtered_df_train.to_dict(orient=\"records\")"
   ]
  },
  {
   "cell_type": "code",
   "execution_count": 197,
   "metadata": {},
   "outputs": [
    {
     "data": {
      "text/plain": [
       "{'make': 'Mitsubishi',\n",
       " 'model': 'Endeavor',\n",
       " 'year': 2011,\n",
       " 'engine_hp': 225.0,\n",
       " 'engine_cylinders': 6.0,\n",
       " 'transmission_type': 'AUTOMATIC',\n",
       " 'vehicle_style': '4dr SUV',\n",
       " 'highway_mpg': 19,\n",
       " 'city_mpg': 15}"
      ]
     },
     "execution_count": 197,
     "metadata": {},
     "output_type": "execute_result"
    }
   ],
   "source": [
    "train_dicts[0]"
   ]
  },
  {
   "cell_type": "code",
   "execution_count": 198,
   "metadata": {},
   "outputs": [],
   "source": [
    "dv = DictVectorizer(sparse=False)"
   ]
  },
  {
   "cell_type": "code",
   "execution_count": 199,
   "metadata": {},
   "outputs": [],
   "source": [
    "X_train = dv.fit_transform(train_dicts) "
   ]
  },
  {
   "cell_type": "code",
   "execution_count": 200,
   "metadata": {},
   "outputs": [
    {
     "data": {
      "text/plain": [
       "array(['city_mpg', 'engine_cylinders', 'engine_hp', 'highway_mpg',\n",
       "       'make=Acura', 'make=Alfa Romeo', 'make=Aston Martin', 'make=Audi',\n",
       "       'make=BMW', 'make=Bentley', 'make=Bugatti', 'make=Buick',\n",
       "       'make=Cadillac', 'make=Chevrolet', 'make=Chrysler', 'make=Dodge',\n",
       "       'make=FIAT', 'make=Ferrari', 'make=Ford', 'make=GMC',\n",
       "       'make=Genesis', 'make=HUMMER', 'make=Honda', 'make=Hyundai',\n",
       "       'make=Infiniti', 'make=Kia', 'make=Lamborghini', 'make=Land Rover',\n",
       "       'make=Lexus', 'make=Lincoln', 'make=Lotus', 'make=Maserati',\n",
       "       'make=Maybach', 'make=Mazda', 'make=McLaren', 'make=Mercedes-Benz',\n",
       "       'make=Mitsubishi', 'make=Nissan', 'make=Oldsmobile',\n",
       "       'make=Plymouth', 'make=Pontiac', 'make=Porsche',\n",
       "       'make=Rolls-Royce', 'make=Saab', 'make=Scion', 'make=Spyker',\n",
       "       'make=Subaru', 'make=Suzuki', 'make=Tesla', 'make=Toyota',\n",
       "       'make=Volkswagen', 'make=Volvo', 'model=1 Series', 'model=100',\n",
       "       'model=124 Spider', 'model=190-Class', 'model=2', 'model=2 Series',\n",
       "       'model=200', 'model=200SX', 'model=240', 'model=240SX', 'model=3',\n",
       "       'model=3 Series', 'model=3 Series Gran Turismo', 'model=300',\n",
       "       'model=300-Class', 'model=3000GT', 'model=300M', 'model=300ZX',\n",
       "       'model=323', 'model=350-Class', 'model=350Z', 'model=360',\n",
       "       'model=370Z', 'model=4 Series', 'model=4 Series Gran Coupe',\n",
       "       'model=400-Class', 'model=420-Class', 'model=456M',\n",
       "       'model=458 Italia', 'model=4C', 'model=4Runner', 'model=5',\n",
       "       'model=5 Series', 'model=5 Series Gran Turismo', 'model=500',\n",
       "       'model=500-Class', 'model=500L', 'model=500X', 'model=500e',\n",
       "       'model=550', 'model=560-Class', 'model=57', 'model=570S',\n",
       "       'model=575M', 'model=599', 'model=6', 'model=6 Series',\n",
       "       'model=6 Series Gran Coupe', 'model=600-Class', 'model=6000',\n",
       "       'model=612 Scaglietti', 'model=62', 'model=626', 'model=7 Series',\n",
       "       'model=740', 'model=760', 'model=780', 'model=8 Series',\n",
       "       'model=80', 'model=850', 'model=9-2X', 'model=9-3',\n",
       "       'model=9-3 Griffin', 'model=9-4X', 'model=9-5', 'model=9-7X',\n",
       "       'model=90', 'model=900', 'model=9000', 'model=911', 'model=928',\n",
       "       'model=929', 'model=940', 'model=944', 'model=960', 'model=968',\n",
       "       'model=A3', 'model=A4', 'model=A5', 'model=A6', 'model=A7',\n",
       "       'model=A8', 'model=ALPINA B6 Gran Coupe', 'model=ALPINA B7',\n",
       "       'model=AMG GT', 'model=ATS', 'model=ATS Coupe', 'model=Acadia',\n",
       "       'model=Acadia Limited', 'model=Accent', 'model=Acclaim',\n",
       "       'model=Accord', 'model=Accord Crosstour', 'model=Accord Hybrid',\n",
       "       'model=Accord Plug-In Hybrid', 'model=Achieva',\n",
       "       'model=ActiveHybrid 5', 'model=ActiveHybrid 7',\n",
       "       'model=ActiveHybrid X6', 'model=Aerio', 'model=Aerostar',\n",
       "       'model=Alero', 'model=Allante', 'model=Altima',\n",
       "       'model=Altima Hybrid', 'model=Amanti', 'model=Armada',\n",
       "       'model=Arnage', 'model=Aspen', 'model=Aspire', 'model=Astro',\n",
       "       'model=Astro Cargo', 'model=Aurora', 'model=Avalanche',\n",
       "       'model=Avalon', 'model=Avalon Hybrid', 'model=Avenger',\n",
       "       'model=Aventador', 'model=Aveo', 'model=Aviator', 'model=Axxess',\n",
       "       'model=Azera', 'model=Aztek', 'model=Azure', 'model=Azure T',\n",
       "       'model=B-Class Electric Drive', 'model=B-Series',\n",
       "       'model=B-Series Pickup', 'model=B-Series Truck',\n",
       "       'model=B9 Tribeca', 'model=BRZ', 'model=Baja', 'model=Beetle',\n",
       "       'model=Beetle Convertible', 'model=Beretta',\n",
       "       'model=Black Diamond Avalanche', 'model=Blackwood', 'model=Blazer',\n",
       "       'model=Bonneville', 'model=Borrego', 'model=Boxster',\n",
       "       'model=Bravada', 'model=Breeze', 'model=Bronco', 'model=Bronco II',\n",
       "       'model=Brooklands', 'model=Brougham', 'model=C-Class',\n",
       "       'model=C-Max Hybrid', 'model=C/K 1500 Series',\n",
       "       'model=C/K 2500 Series', 'model=C30', 'model=C43 AMG', 'model=C70',\n",
       "       'model=C8', 'model=CC', 'model=CL', 'model=CL-Class',\n",
       "       'model=CLA-Class', 'model=CLK-Class', 'model=CLS-Class',\n",
       "       'model=CR-V', 'model=CR-Z', 'model=CT6', 'model=CTS',\n",
       "       'model=CTS Coupe', 'model=CTS Wagon', 'model=CTS-V',\n",
       "       'model=CTS-V Coupe', 'model=CTS-V Wagon', 'model=CX-3',\n",
       "       'model=CX-5', 'model=CX-7', 'model=CX-9', 'model=Cabrio',\n",
       "       'model=Cabriolet', 'model=Cadenza', 'model=Caliber',\n",
       "       'model=Camaro', 'model=Camry', 'model=Camry Hybrid',\n",
       "       'model=Camry Solara', 'model=Canyon', 'model=Caprice',\n",
       "       'model=Captiva Sport', 'model=Caravan', 'model=Carrera GT',\n",
       "       'model=Cascada', 'model=Catera', 'model=Cavalier', 'model=Cayenne',\n",
       "       'model=Cayman', 'model=Cayman S', 'model=Celebrity',\n",
       "       'model=Celica', 'model=Century', 'model=Challenger',\n",
       "       'model=Charger', 'model=Chevy Van', 'model=City Express',\n",
       "       'model=Civic', 'model=Civic CRX', 'model=Civic del Sol',\n",
       "       'model=Classic', 'model=Cobalt', 'model=Colorado', 'model=Colt',\n",
       "       'model=Concorde', 'model=Continental',\n",
       "       'model=Continental Flying Spur',\n",
       "       'model=Continental Flying Spur Speed', 'model=Continental GT',\n",
       "       'model=Continental GT Speed',\n",
       "       'model=Continental GT Speed Convertible', 'model=Continental GTC',\n",
       "       'model=Continental GTC Speed', 'model=Continental Supersports',\n",
       "       'model=Continental Supersports Convertible', 'model=Contour',\n",
       "       'model=Corniche', 'model=Corolla', 'model=Corolla iM',\n",
       "       'model=Corrado', 'model=Corvette', 'model=Corvette Stingray',\n",
       "       'model=Coupe', 'model=Cressida', 'model=Crossfire',\n",
       "       'model=Crosstour', 'model=Crosstrek', 'model=Crown Victoria',\n",
       "       'model=Cruze', 'model=Cruze Limited', 'model=Cube',\n",
       "       'model=Custom Cruiser', 'model=Cutlass', 'model=Cutlass Calais',\n",
       "       'model=Cutlass Ciera', 'model=Cutlass Supreme', 'model=DB9',\n",
       "       'model=DB9 GT', 'model=DBS', 'model=DTS', 'model=Dakota',\n",
       "       'model=Dart', 'model=Dawn', 'model=Daytona', 'model=DeVille',\n",
       "       'model=Defender', 'model=Diablo', 'model=Diamante',\n",
       "       'model=Discovery', 'model=Discovery Series II',\n",
       "       'model=Discovery Sport', 'model=Durango', 'model=Dynasty',\n",
       "       'model=E-150', 'model=E-250', 'model=E-Class',\n",
       "       'model=E-Series Van', 'model=E-Series Wagon', 'model=E55 AMG',\n",
       "       'model=ECHO', 'model=ES 250', 'model=ES 300', 'model=ES 300h',\n",
       "       'model=EX', 'model=EX35', 'model=Eclipse', 'model=Eclipse Spyder',\n",
       "       'model=Edge', 'model=Eighty-Eight', 'model=Eighty-Eight Royale',\n",
       "       'model=Elantra', 'model=Elantra Coupe', 'model=Elantra GT',\n",
       "       'model=Elantra Touring', 'model=Eldorado', 'model=Electra',\n",
       "       'model=Element', 'model=Elise', 'model=Enclave', 'model=Encore',\n",
       "       'model=Endeavor', 'model=Entourage', 'model=Envision',\n",
       "       'model=Envoy', 'model=Envoy XL', 'model=Envoy XUV', 'model=Eos',\n",
       "       'model=Equator', 'model=Equinox', 'model=Equus', 'model=Escalade',\n",
       "       'model=Escalade ESV', 'model=Escalade EXT',\n",
       "       'model=Escalade Hybrid', 'model=Escape', 'model=Escape Hybrid',\n",
       "       'model=Escort', 'model=Esprit', 'model=Esteem', 'model=EuroVan',\n",
       "       'model=Evora', 'model=Excel', 'model=Exige', 'model=Expedition',\n",
       "       'model=Explorer', 'model=Explorer Sport',\n",
       "       'model=Explorer Sport Trac', 'model=Expo', 'model=Express',\n",
       "       'model=Express Cargo', 'model=F-150', 'model=F-150 Heritage',\n",
       "       'model=F-150 SVT Lightning', 'model=F-250', 'model=F12 Berlinetta',\n",
       "       'model=F430', 'model=FF', 'model=FJ Cruiser', 'model=FR-S',\n",
       "       'model=FX', 'model=FX35', 'model=FX45', 'model=FX50',\n",
       "       'model=Festiva', 'model=Fiesta', 'model=Firebird', 'model=Fit',\n",
       "       'model=Five Hundred', 'model=Fleetwood', 'model=Flex',\n",
       "       'model=Flying Spur', 'model=Focus', 'model=Focus ST',\n",
       "       'model=Forenza', 'model=Forester', 'model=Forte', 'model=Fox',\n",
       "       'model=Freelander', 'model=Freestar', 'model=Freestyle',\n",
       "       'model=Frontier', 'model=Fusion', 'model=Fusion Hybrid',\n",
       "       'model=G Convertible', 'model=G Coupe', 'model=G Sedan',\n",
       "       'model=G-Class', 'model=G20', 'model=G3', 'model=G35', 'model=G37',\n",
       "       'model=G37 Convertible', 'model=G37 Coupe', 'model=G37 Sedan',\n",
       "       'model=G5', 'model=G6', 'model=G8', 'model=G80', 'model=GL-Class',\n",
       "       'model=GLA-Class', 'model=GLC-Class', 'model=GLE-Class',\n",
       "       'model=GLE-Class Coupe', 'model=GLI', 'model=GLK-Class',\n",
       "       'model=GLS-Class', 'model=GS 200t', 'model=GS 300', 'model=GS 350',\n",
       "       'model=GS 400', 'model=GS 430', 'model=GS 450h', 'model=GS 460',\n",
       "       'model=GT', 'model=GT-R', 'model=GTI', 'model=GTO', 'model=GX 460',\n",
       "       'model=GX 470', 'model=Galant', 'model=Gallardo', 'model=Genesis',\n",
       "       'model=Genesis Coupe', 'model=Ghibli', 'model=Ghost',\n",
       "       'model=Ghost Series II', 'model=Golf', 'model=Golf Alltrack',\n",
       "       'model=Golf GTI', 'model=Golf R', 'model=Golf SportWagen',\n",
       "       'model=GranSport', 'model=GranTurismo',\n",
       "       'model=GranTurismo Convertible', 'model=Grand Am',\n",
       "       'model=Grand Caravan', 'model=Grand Prix', 'model=Grand Vitara',\n",
       "       'model=Grand Voyager', 'model=H3', 'model=H3T', 'model=HHR',\n",
       "       'model=HR-V', 'model=HS 250h', 'model=Highlander',\n",
       "       'model=Highlander Hybrid', 'model=Horizon', 'model=Huracan',\n",
       "       'model=I30', 'model=I35', 'model=ILX', 'model=ILX Hybrid',\n",
       "       'model=IS 200t', 'model=IS 250', 'model=IS 250 C', 'model=IS 300',\n",
       "       'model=IS 350', 'model=IS 350 C', 'model=IS F', 'model=Impala',\n",
       "       'model=Impala Limited', 'model=Imperial', 'model=Impreza',\n",
       "       'model=Impreza WRX', 'model=Insight', 'model=Integra',\n",
       "       'model=Intrepid', 'model=Intrigue', 'model=J30', 'model=JX',\n",
       "       'model=Jetta', 'model=Jetta GLI', 'model=Jetta Hybrid',\n",
       "       'model=Jetta SportWagen', 'model=Jimmy', 'model=Journey',\n",
       "       'model=Juke', 'model=Justy', 'model=K900', 'model=Kizashi',\n",
       "       'model=LFA', 'model=LHS', 'model=LR2', 'model=LR3', 'model=LR4',\n",
       "       'model=LS', 'model=LS 400', 'model=LS 430', 'model=LS 460',\n",
       "       'model=LS 600h L', 'model=LSS', 'model=LTD Crown Victoria',\n",
       "       'model=LX 450', 'model=LX 470', 'model=LX 570', 'model=LaCrosse',\n",
       "       'model=Lancer', 'model=Lancer Evolution', 'model=Lancer Sportback',\n",
       "       'model=Land Cruiser', 'model=Laser', 'model=Le Baron',\n",
       "       'model=Le Mans', 'model=LeSabre', 'model=Leaf', 'model=Legacy',\n",
       "       'model=Legend', 'model=Levante', 'model=Loyale', 'model=Lucerne',\n",
       "       'model=Lumina', 'model=Lumina Minivan', 'model=M', 'model=M-Class',\n",
       "       'model=M2', 'model=M3', 'model=M30', 'model=M35', 'model=M37',\n",
       "       'model=M4', 'model=M45', 'model=M5', 'model=M56', 'model=M6',\n",
       "       'model=M6 Gran Coupe', 'model=MDX', 'model=MKC', 'model=MKS',\n",
       "       'model=MKT', 'model=MKX', 'model=MKZ', 'model=MKZ Hybrid',\n",
       "       'model=MP4-12C', 'model=MPV', 'model=MR2', 'model=MR2 Spyder',\n",
       "       'model=MX-3', 'model=MX-5 Miata', 'model=MX-6', 'model=Macan',\n",
       "       'model=Magnum', 'model=Malibu', 'model=Malibu Classic',\n",
       "       'model=Malibu Hybrid', 'model=Malibu Limited', 'model=Malibu Maxx',\n",
       "       'model=Mark LT', 'model=Mark VII', 'model=Mark VIII',\n",
       "       'model=Matrix', 'model=Maxima', 'model=Maybach',\n",
       "       'model=Mazdaspeed 3', 'model=Mazdaspeed MX-5 Miata',\n",
       "       'model=Mazdaspeed Protege', 'model=Metris', 'model=Metro',\n",
       "       'model=Mighty Max Pickup', 'model=Millenia', 'model=Mirage',\n",
       "       'model=Mirage G4', 'model=Model S', 'model=Monaco',\n",
       "       'model=Montana', 'model=Montana SV6', 'model=Monte Carlo',\n",
       "       'model=Montero', 'model=Montero Sport', 'model=Mulsanne',\n",
       "       'model=Murano', 'model=Murano CrossCabriolet', 'model=Murcielago',\n",
       "       'model=Mustang', 'model=Mustang SVT Cobra', 'model=NSX',\n",
       "       'model=NV200', 'model=NX', 'model=NX 200t', 'model=NX 300h',\n",
       "       'model=Navajo', 'model=Navigator', 'model=Neon',\n",
       "       'model=New Beetle', 'model=New Yorker', 'model=Ninety-Eight',\n",
       "       'model=Nitro', 'model=Odyssey', 'model=Omni', 'model=Optima',\n",
       "       'model=Optima Hybrid', 'model=Outback', 'model=Outlander',\n",
       "       'model=Outlander Sport', 'model=PT Cruiser', 'model=Pacifica',\n",
       "       'model=Panamera', 'model=Park Avenue', 'model=Paseo',\n",
       "       'model=Passat', 'model=Passport', 'model=Pathfinder',\n",
       "       'model=Phaeton', 'model=Phantom', 'model=Phantom Coupe',\n",
       "       'model=Phantom Drophead Coupe', 'model=Pickup', 'model=Pilot',\n",
       "       'model=Precis', 'model=Prelude', 'model=Previa', 'model=Prius',\n",
       "       'model=Prius Prime', 'model=Prius c', 'model=Prius v',\n",
       "       'model=Prizm', 'model=Probe', 'model=Protege', 'model=Protege5',\n",
       "       'model=Prowler', 'model=Q3', 'model=Q40', 'model=Q45', 'model=Q5',\n",
       "       'model=Q50', 'model=Q60 Convertible', 'model=Q60 Coupe',\n",
       "       'model=Q7', 'model=Q70', 'model=QX', 'model=QX4', 'model=QX50',\n",
       "       'model=QX56', 'model=QX60', 'model=QX70', 'model=QX80',\n",
       "       'model=Quattroporte', 'model=Quest', 'model=R-Class', 'model=R32',\n",
       "       'model=R8', 'model=RAM 150', 'model=RAM 250', 'model=RAV4',\n",
       "       'model=RAV4 EV', 'model=RAV4 Hybrid', 'model=RC 200t',\n",
       "       'model=RC 300', 'model=RC 350', 'model=RDX', 'model=RL',\n",
       "       'model=RLX', 'model=RS 4', 'model=RS 5', 'model=RS 7', 'model=RSX',\n",
       "       'model=RX 300', 'model=RX 330', 'model=RX 350', 'model=RX 400h',\n",
       "       'model=RX 450h', 'model=RX-7', 'model=RX-8', 'model=Rabbit',\n",
       "       'model=Raider', 'model=Rainier', 'model=Rally Wagon',\n",
       "       'model=Ram 50 Pickup', 'model=Ram Cargo', 'model=Ram Pickup 1500',\n",
       "       'model=Ram Van', 'model=Ram Wagon', 'model=Ramcharger',\n",
       "       'model=Range Rover', 'model=Range Rover Evoque',\n",
       "       'model=Range Rover Sport', 'model=Ranger', 'model=Rapide',\n",
       "       'model=Rapide S', 'model=Reatta', 'model=Regal', 'model=Regency',\n",
       "       'model=Rendezvous', 'model=Reno', 'model=Reventon',\n",
       "       'model=Ridgeline', 'model=Rio', 'model=Riviera',\n",
       "       'model=Roadmaster', 'model=Rogue', 'model=Rogue Select',\n",
       "       'model=Rondo', 'model=Routan', 'model=S-10', 'model=S-10 Blazer',\n",
       "       'model=S-15', 'model=S-15 Jimmy', 'model=S-Class', 'model=S2000',\n",
       "       'model=S3', 'model=S4', 'model=S40', 'model=S5', 'model=S6',\n",
       "       'model=S60', 'model=S60 Cross Country', 'model=S7', 'model=S70',\n",
       "       'model=S8', 'model=S80', 'model=S90', 'model=SC 300',\n",
       "       'model=SC 400', 'model=SC 430', 'model=SL-Class',\n",
       "       'model=SLC-Class', 'model=SLK-Class', 'model=SLR McLaren',\n",
       "       'model=SLS AMG', 'model=SLS AMG GT',\n",
       "       'model=SLS AMG GT Final Edition', 'model=SLX', 'model=SQ5',\n",
       "       'model=SRT Viper', 'model=SRX', 'model=STS', 'model=STS-V',\n",
       "       'model=SVX', 'model=SX4', 'model=Safari', 'model=Safari Cargo',\n",
       "       'model=Samurai', 'model=Santa Fe', 'model=Santa Fe Sport',\n",
       "       'model=Savana', 'model=Savana Cargo', 'model=Scoupe',\n",
       "       'model=Sebring', 'model=Sedona', 'model=Sentra', 'model=Sephia',\n",
       "       'model=Sequoia', 'model=Seville', 'model=Shadow',\n",
       "       'model=Shelby GT350', 'model=Shelby GT500', 'model=Sidekick',\n",
       "       'model=Sienna', 'model=Sierra 1500', 'model=Sierra 1500 Classic',\n",
       "       'model=Sierra 1500 Hybrid', 'model=Sierra 1500HD',\n",
       "       'model=Sierra C3', 'model=Sierra Classic 1500', 'model=Sigma',\n",
       "       'model=Silhouette', 'model=Silver Seraph', 'model=Silverado 1500',\n",
       "       'model=Silverado 1500 Classic', 'model=Silverado 1500 Hybrid',\n",
       "       'model=Skylark', 'model=Solstice', 'model=Sonata',\n",
       "       'model=Sonata Hybrid', 'model=Sonic', 'model=Sonoma',\n",
       "       'model=Sorento', 'model=Soul', 'model=Soul EV', 'model=Spark',\n",
       "       'model=Spark EV', 'model=Spectra', 'model=Spirit',\n",
       "       'model=Sportage', 'model=Sportvan', 'model=Spyder', 'model=Stanza',\n",
       "       'model=Stealth', 'model=Stratus', 'model=Suburban',\n",
       "       'model=Sunbird', 'model=Sundance', 'model=Sunfire', 'model=Supra',\n",
       "       'model=Swift', 'model=Syclone', 'model=T100', 'model=TL',\n",
       "       'model=TLX', 'model=TSX', 'model=TSX Sport Wagon', 'model=TT',\n",
       "       'model=TTS', 'model=Tacoma', 'model=Tahoe', 'model=Tahoe Hybrid',\n",
       "       'model=Tahoe Limited/Z71', 'model=Taurus', 'model=Taurus X',\n",
       "       'model=Tempo', 'model=Tercel', 'model=Terrain', 'model=Terraza',\n",
       "       'model=Thunderbird', 'model=Tiburon', 'model=Tiguan',\n",
       "       'model=Titan', 'model=Toronado', 'model=Torrent', 'model=Touareg',\n",
       "       'model=Touareg 2', 'model=Town Car', 'model=Town and Country',\n",
       "       'model=Tracker', 'model=TrailBlazer', 'model=TrailBlazer EXT',\n",
       "       'model=Trans Sport', 'model=Transit Connect',\n",
       "       'model=Transit Wagon', 'model=Traverse', 'model=Trax',\n",
       "       'model=Tribeca', 'model=Tribute', 'model=Tribute Hybrid',\n",
       "       'model=Truck', 'model=Tucson', 'model=Tundra', 'model=Typhoon',\n",
       "       'model=Uplander', 'model=V12 Vanquish', 'model=V12 Vantage',\n",
       "       'model=V12 Vantage S', 'model=V40', 'model=V50', 'model=V60',\n",
       "       'model=V60 Cross Country', 'model=V70', 'model=V8 Vantage',\n",
       "       'model=Van', 'model=Vanagon', 'model=Vandura', 'model=Vanquish',\n",
       "       'model=Vanwagon', 'model=Veloster', 'model=Venture', 'model=Venza',\n",
       "       'model=Veracruz', 'model=Verano', 'model=Verona', 'model=Versa',\n",
       "       'model=Versa Note', 'model=Veyron 16.4', 'model=Vibe',\n",
       "       'model=Vigor', 'model=Viper', 'model=Virage', 'model=Vitara',\n",
       "       'model=Voyager', 'model=WRX', 'model=Windstar',\n",
       "       'model=Windstar Cargo', 'model=Wraith', 'model=X-90', 'model=X1',\n",
       "       'model=X3', 'model=X4', 'model=X5', 'model=X5 M', 'model=X6',\n",
       "       'model=X6 M', 'model=XC', 'model=XC60', 'model=XC70', 'model=XC90',\n",
       "       'model=XG300', 'model=XG350', 'model=XL-7', 'model=XL7',\n",
       "       'model=XLR', 'model=XLR-V', 'model=XT', 'model=XT5', 'model=XTS',\n",
       "       'model=XV Crosstrek', 'model=Xterra', 'model=Yaris',\n",
       "       'model=Yaris iA', 'model=Yukon', 'model=Yukon Denali',\n",
       "       'model=Yukon Hybrid', 'model=Yukon XL', 'model=Z3', 'model=Z4',\n",
       "       'model=Z4 M', 'model=Z8', 'model=ZDX', 'model=allroad',\n",
       "       'model=allroad quattro', 'model=e-Golf', 'model=i-MiEV',\n",
       "       'model=i3', 'model=iA', 'model=iQ', 'model=tC', 'model=xA',\n",
       "       'model=xB', 'model=xD', 'transmission_type=AUTOMATED_MANUAL',\n",
       "       'transmission_type=AUTOMATIC', 'transmission_type=DIRECT_DRIVE',\n",
       "       'transmission_type=MANUAL', 'transmission_type=UNKNOWN',\n",
       "       'vehicle_style=2dr Hatchback', 'vehicle_style=2dr SUV',\n",
       "       'vehicle_style=4dr Hatchback', 'vehicle_style=4dr SUV',\n",
       "       'vehicle_style=Cargo Minivan', 'vehicle_style=Cargo Van',\n",
       "       'vehicle_style=Convertible', 'vehicle_style=Convertible SUV',\n",
       "       'vehicle_style=Coupe', 'vehicle_style=Crew Cab Pickup',\n",
       "       'vehicle_style=Extended Cab Pickup',\n",
       "       'vehicle_style=Passenger Minivan', 'vehicle_style=Passenger Van',\n",
       "       'vehicle_style=Regular Cab Pickup', 'vehicle_style=Sedan',\n",
       "       'vehicle_style=Wagon', 'year'], dtype=object)"
      ]
     },
     "execution_count": 200,
     "metadata": {},
     "output_type": "execute_result"
    }
   ],
   "source": [
    "dv.get_feature_names_out()"
   ]
  },
  {
   "cell_type": "code",
   "execution_count": 201,
   "metadata": {},
   "outputs": [
    {
     "data": {
      "text/plain": [
       "(7148, 943)"
      ]
     },
     "execution_count": 201,
     "metadata": {},
     "output_type": "execute_result"
    }
   ],
   "source": [
    "X_train.shape "
   ]
  },
  {
   "cell_type": "code",
   "execution_count": 202,
   "metadata": {},
   "outputs": [],
   "source": [
    "from sklearn.linear_model import LogisticRegression  "
   ]
  },
  {
   "cell_type": "code",
   "execution_count": 203,
   "metadata": {},
   "outputs": [
    {
     "data": {
      "text/html": [
       "<style>#sk-container-id-9 {color: black;}#sk-container-id-9 pre{padding: 0;}#sk-container-id-9 div.sk-toggleable {background-color: white;}#sk-container-id-9 label.sk-toggleable__label {cursor: pointer;display: block;width: 100%;margin-bottom: 0;padding: 0.3em;box-sizing: border-box;text-align: center;}#sk-container-id-9 label.sk-toggleable__label-arrow:before {content: \"▸\";float: left;margin-right: 0.25em;color: #696969;}#sk-container-id-9 label.sk-toggleable__label-arrow:hover:before {color: black;}#sk-container-id-9 div.sk-estimator:hover label.sk-toggleable__label-arrow:before {color: black;}#sk-container-id-9 div.sk-toggleable__content {max-height: 0;max-width: 0;overflow: hidden;text-align: left;background-color: #f0f8ff;}#sk-container-id-9 div.sk-toggleable__content pre {margin: 0.2em;color: black;border-radius: 0.25em;background-color: #f0f8ff;}#sk-container-id-9 input.sk-toggleable__control:checked~div.sk-toggleable__content {max-height: 200px;max-width: 100%;overflow: auto;}#sk-container-id-9 input.sk-toggleable__control:checked~label.sk-toggleable__label-arrow:before {content: \"▾\";}#sk-container-id-9 div.sk-estimator input.sk-toggleable__control:checked~label.sk-toggleable__label {background-color: #d4ebff;}#sk-container-id-9 div.sk-label input.sk-toggleable__control:checked~label.sk-toggleable__label {background-color: #d4ebff;}#sk-container-id-9 input.sk-hidden--visually {border: 0;clip: rect(1px 1px 1px 1px);clip: rect(1px, 1px, 1px, 1px);height: 1px;margin: -1px;overflow: hidden;padding: 0;position: absolute;width: 1px;}#sk-container-id-9 div.sk-estimator {font-family: monospace;background-color: #f0f8ff;border: 1px dotted black;border-radius: 0.25em;box-sizing: border-box;margin-bottom: 0.5em;}#sk-container-id-9 div.sk-estimator:hover {background-color: #d4ebff;}#sk-container-id-9 div.sk-parallel-item::after {content: \"\";width: 100%;border-bottom: 1px solid gray;flex-grow: 1;}#sk-container-id-9 div.sk-label:hover label.sk-toggleable__label {background-color: #d4ebff;}#sk-container-id-9 div.sk-serial::before {content: \"\";position: absolute;border-left: 1px solid gray;box-sizing: border-box;top: 0;bottom: 0;left: 50%;z-index: 0;}#sk-container-id-9 div.sk-serial {display: flex;flex-direction: column;align-items: center;background-color: white;padding-right: 0.2em;padding-left: 0.2em;position: relative;}#sk-container-id-9 div.sk-item {position: relative;z-index: 1;}#sk-container-id-9 div.sk-parallel {display: flex;align-items: stretch;justify-content: center;background-color: white;position: relative;}#sk-container-id-9 div.sk-item::before, #sk-container-id-9 div.sk-parallel-item::before {content: \"\";position: absolute;border-left: 1px solid gray;box-sizing: border-box;top: 0;bottom: 0;left: 50%;z-index: -1;}#sk-container-id-9 div.sk-parallel-item {display: flex;flex-direction: column;z-index: 1;position: relative;background-color: white;}#sk-container-id-9 div.sk-parallel-item:first-child::after {align-self: flex-end;width: 50%;}#sk-container-id-9 div.sk-parallel-item:last-child::after {align-self: flex-start;width: 50%;}#sk-container-id-9 div.sk-parallel-item:only-child::after {width: 0;}#sk-container-id-9 div.sk-dashed-wrapped {border: 1px dashed gray;margin: 0 0.4em 0.5em 0.4em;box-sizing: border-box;padding-bottom: 0.4em;background-color: white;}#sk-container-id-9 div.sk-label label {font-family: monospace;font-weight: bold;display: inline-block;line-height: 1.2em;}#sk-container-id-9 div.sk-label-container {text-align: center;}#sk-container-id-9 div.sk-container {/* jupyter's `normalize.less` sets `[hidden] { display: none; }` but bootstrap.min.css set `[hidden] { display: none !important; }` so we also need the `!important` here to be able to override the default hidden behavior on the sphinx rendered scikit-learn.org. See: https://github.com/scikit-learn/scikit-learn/issues/21755 */display: inline-block !important;position: relative;}#sk-container-id-9 div.sk-text-repr-fallback {display: none;}</style><div id=\"sk-container-id-9\" class=\"sk-top-container\"><div class=\"sk-text-repr-fallback\"><pre>LogisticRegression(C=10, max_iter=1000, random_state=42, solver=&#x27;liblinear&#x27;)</pre><b>In a Jupyter environment, please rerun this cell to show the HTML representation or trust the notebook. <br />On GitHub, the HTML representation is unable to render, please try loading this page with nbviewer.org.</b></div><div class=\"sk-container\" hidden><div class=\"sk-item\"><div class=\"sk-estimator sk-toggleable\"><input class=\"sk-toggleable__control sk-hidden--visually\" id=\"sk-estimator-id-9\" type=\"checkbox\" checked><label for=\"sk-estimator-id-9\" class=\"sk-toggleable__label sk-toggleable__label-arrow\">LogisticRegression</label><div class=\"sk-toggleable__content\"><pre>LogisticRegression(C=10, max_iter=1000, random_state=42, solver=&#x27;liblinear&#x27;)</pre></div></div></div></div></div>"
      ],
      "text/plain": [
       "LogisticRegression(C=10, max_iter=1000, random_state=42, solver='liblinear')"
      ]
     },
     "execution_count": 203,
     "metadata": {},
     "output_type": "execute_result"
    }
   ],
   "source": [
    "model = LogisticRegression(solver='liblinear', C=10, max_iter=1000, random_state=42)\n",
    "model.fit(X_train, y_train)"
   ]
  },
  {
   "cell_type": "code",
   "execution_count": 204,
   "metadata": {},
   "outputs": [],
   "source": [
    "val_dicts = filtered_df_val.to_dict(orient=\"records\")\n",
    "X_val = dv.transform(val_dicts) "
   ]
  },
  {
   "cell_type": "code",
   "execution_count": 205,
   "metadata": {},
   "outputs": [
    {
     "name": "stdout",
     "output_type": "stream",
     "text": [
      "0.9450272765421738\n"
     ]
    }
   ],
   "source": [
    "y_val_pred = model.predict_proba(X_val)[:, 1]\n",
    "above_average_decision = (y_val_pred >= 0.5)\n",
    "print((y_val == above_average_decision).mean())\n",
    "original_val_accuracy_score = (y_val == above_average_decision).mean()"
   ]
  },
  {
   "cell_type": "markdown",
   "metadata": {},
   "source": [
    "Question 5"
   ]
  },
  {
   "cell_type": "code",
   "execution_count": 184,
   "metadata": {},
   "outputs": [],
   "source": [
    "# Without year\n",
    "without_year_cols = list(filtered_df_train.columns)\n",
    "del without_year_cols[without_year_cols.index(\"year\")]\n",
    "without_year_cols\n",
    "train_dicts_without_year = filtered_df_train[without_year_cols].to_dict(orient=\"records\")"
   ]
  },
  {
   "cell_type": "code",
   "execution_count": 185,
   "metadata": {},
   "outputs": [],
   "source": [
    "X_train_without_year = dv.fit_transform(train_dicts_without_year) "
   ]
  },
  {
   "cell_type": "code",
   "execution_count": 186,
   "metadata": {},
   "outputs": [
    {
     "data": {
      "text/plain": [
       "(7148, 942)"
      ]
     },
     "execution_count": 186,
     "metadata": {},
     "output_type": "execute_result"
    }
   ],
   "source": [
    "X_train_without_year.shape "
   ]
  },
  {
   "cell_type": "code",
   "execution_count": 187,
   "metadata": {},
   "outputs": [
    {
     "data": {
      "text/html": [
       "<style>#sk-container-id-8 {color: black;}#sk-container-id-8 pre{padding: 0;}#sk-container-id-8 div.sk-toggleable {background-color: white;}#sk-container-id-8 label.sk-toggleable__label {cursor: pointer;display: block;width: 100%;margin-bottom: 0;padding: 0.3em;box-sizing: border-box;text-align: center;}#sk-container-id-8 label.sk-toggleable__label-arrow:before {content: \"▸\";float: left;margin-right: 0.25em;color: #696969;}#sk-container-id-8 label.sk-toggleable__label-arrow:hover:before {color: black;}#sk-container-id-8 div.sk-estimator:hover label.sk-toggleable__label-arrow:before {color: black;}#sk-container-id-8 div.sk-toggleable__content {max-height: 0;max-width: 0;overflow: hidden;text-align: left;background-color: #f0f8ff;}#sk-container-id-8 div.sk-toggleable__content pre {margin: 0.2em;color: black;border-radius: 0.25em;background-color: #f0f8ff;}#sk-container-id-8 input.sk-toggleable__control:checked~div.sk-toggleable__content {max-height: 200px;max-width: 100%;overflow: auto;}#sk-container-id-8 input.sk-toggleable__control:checked~label.sk-toggleable__label-arrow:before {content: \"▾\";}#sk-container-id-8 div.sk-estimator input.sk-toggleable__control:checked~label.sk-toggleable__label {background-color: #d4ebff;}#sk-container-id-8 div.sk-label input.sk-toggleable__control:checked~label.sk-toggleable__label {background-color: #d4ebff;}#sk-container-id-8 input.sk-hidden--visually {border: 0;clip: rect(1px 1px 1px 1px);clip: rect(1px, 1px, 1px, 1px);height: 1px;margin: -1px;overflow: hidden;padding: 0;position: absolute;width: 1px;}#sk-container-id-8 div.sk-estimator {font-family: monospace;background-color: #f0f8ff;border: 1px dotted black;border-radius: 0.25em;box-sizing: border-box;margin-bottom: 0.5em;}#sk-container-id-8 div.sk-estimator:hover {background-color: #d4ebff;}#sk-container-id-8 div.sk-parallel-item::after {content: \"\";width: 100%;border-bottom: 1px solid gray;flex-grow: 1;}#sk-container-id-8 div.sk-label:hover label.sk-toggleable__label {background-color: #d4ebff;}#sk-container-id-8 div.sk-serial::before {content: \"\";position: absolute;border-left: 1px solid gray;box-sizing: border-box;top: 0;bottom: 0;left: 50%;z-index: 0;}#sk-container-id-8 div.sk-serial {display: flex;flex-direction: column;align-items: center;background-color: white;padding-right: 0.2em;padding-left: 0.2em;position: relative;}#sk-container-id-8 div.sk-item {position: relative;z-index: 1;}#sk-container-id-8 div.sk-parallel {display: flex;align-items: stretch;justify-content: center;background-color: white;position: relative;}#sk-container-id-8 div.sk-item::before, #sk-container-id-8 div.sk-parallel-item::before {content: \"\";position: absolute;border-left: 1px solid gray;box-sizing: border-box;top: 0;bottom: 0;left: 50%;z-index: -1;}#sk-container-id-8 div.sk-parallel-item {display: flex;flex-direction: column;z-index: 1;position: relative;background-color: white;}#sk-container-id-8 div.sk-parallel-item:first-child::after {align-self: flex-end;width: 50%;}#sk-container-id-8 div.sk-parallel-item:last-child::after {align-self: flex-start;width: 50%;}#sk-container-id-8 div.sk-parallel-item:only-child::after {width: 0;}#sk-container-id-8 div.sk-dashed-wrapped {border: 1px dashed gray;margin: 0 0.4em 0.5em 0.4em;box-sizing: border-box;padding-bottom: 0.4em;background-color: white;}#sk-container-id-8 div.sk-label label {font-family: monospace;font-weight: bold;display: inline-block;line-height: 1.2em;}#sk-container-id-8 div.sk-label-container {text-align: center;}#sk-container-id-8 div.sk-container {/* jupyter's `normalize.less` sets `[hidden] { display: none; }` but bootstrap.min.css set `[hidden] { display: none !important; }` so we also need the `!important` here to be able to override the default hidden behavior on the sphinx rendered scikit-learn.org. See: https://github.com/scikit-learn/scikit-learn/issues/21755 */display: inline-block !important;position: relative;}#sk-container-id-8 div.sk-text-repr-fallback {display: none;}</style><div id=\"sk-container-id-8\" class=\"sk-top-container\"><div class=\"sk-text-repr-fallback\"><pre>LogisticRegression(C=10, max_iter=1000, random_state=42, solver=&#x27;liblinear&#x27;)</pre><b>In a Jupyter environment, please rerun this cell to show the HTML representation or trust the notebook. <br />On GitHub, the HTML representation is unable to render, please try loading this page with nbviewer.org.</b></div><div class=\"sk-container\" hidden><div class=\"sk-item\"><div class=\"sk-estimator sk-toggleable\"><input class=\"sk-toggleable__control sk-hidden--visually\" id=\"sk-estimator-id-8\" type=\"checkbox\" checked><label for=\"sk-estimator-id-8\" class=\"sk-toggleable__label sk-toggleable__label-arrow\">LogisticRegression</label><div class=\"sk-toggleable__content\"><pre>LogisticRegression(C=10, max_iter=1000, random_state=42, solver=&#x27;liblinear&#x27;)</pre></div></div></div></div></div>"
      ],
      "text/plain": [
       "LogisticRegression(C=10, max_iter=1000, random_state=42, solver='liblinear')"
      ]
     },
     "execution_count": 187,
     "metadata": {},
     "output_type": "execute_result"
    }
   ],
   "source": [
    "model.fit(X_train_without_year, y_train)"
   ]
  },
  {
   "cell_type": "code",
   "execution_count": 189,
   "metadata": {},
   "outputs": [],
   "source": [
    "val_dicts_without_year = filtered_df_val[without_year_cols].to_dict(orient=\"records\")\n",
    "X_val_without_year = dv.transform(val_dicts_without_year)"
   ]
  },
  {
   "cell_type": "code",
   "execution_count": 191,
   "metadata": {},
   "outputs": [
    {
     "name": "stdout",
     "output_type": "stream",
     "text": [
      "0.9479647503147294\n"
     ]
    }
   ],
   "source": [
    "y_val_pred_wy = model.predict_proba(X_val_without_year)[:, 1]\n",
    "above_average_decision_wy = (y_val_pred_wy >= 0.5)\n",
    "print((y_val == above_average_decision_wy).mean())"
   ]
  },
  {
   "cell_type": "code",
   "execution_count": 207,
   "metadata": {},
   "outputs": [
    {
     "name": "stdout",
     "output_type": "stream",
     "text": [
      "Feature: year, Accuracy: 0.9479647503147294, Difference: -0.002937473772555599\n",
      "Feature: engine_hp, Accuracy: 0.7247167436005035, Difference: 0.22031053294167025\n",
      "Feature: transmission_type, Accuracy: 0.8799832144355854, Difference: 0.06504406210658842\n",
      "Feature: city_mpg, Accuracy: 0.9425094418799832, Difference: 0.0025178346621905767\n"
     ]
    }
   ],
   "source": [
    "features = [\"year\", \"engine_hp\", \"transmission_type\", \"city_mpg\"]\n",
    "scores = []\n",
    "\n",
    "for feature in features:\n",
    "    without_feat_cols = list(filtered_df_train.columns)\n",
    "\n",
    "    # Remove the feature from the columns\n",
    "    del without_feat_cols[without_feat_cols.index(feature)]\n",
    "    train_dicts_without_feat = filtered_df_train[without_year_cols].to_dict(orient=\"records\")\n",
    "\n",
    "    X_train_without_feat = dv.fit_transform(train_dicts_without_feat)\n",
    "    model.fit(X_train_without_feat, y_train)\n",
    "    \n",
    "    val_dicts_without_feat = filtered_df_val[without_feat_cols].to_dict(orient=\"records\")\n",
    "    X_val_without_feat = dv.transform(val_dicts_without_feat)\n",
    "\n",
    "    y_val_pred_wf = model.predict_proba(X_val_without_feat)[:, 1]\n",
    "    above_average_decision_wf = (y_val_pred_wf >= 0.5)\n",
    "\n",
    "    # The accuracy score without the feature\n",
    "    accuracy_score_wf = (y_val == above_average_decision_wf).mean()\n",
    "    print(f\"Feature: {feature}, Accuracy: {accuracy_score_wf}, Difference: {original_val_accuracy_score-accuracy_score_wf}\")"
   ]
  },
  {
   "cell_type": "markdown",
   "metadata": {},
   "source": [
    "Question 6"
   ]
  },
  {
   "cell_type": "code",
   "execution_count": 209,
   "metadata": {},
   "outputs": [
    {
     "data": {
      "text/plain": [
       "Index(['make', 'model', 'year', 'engine_hp', 'engine_cylinders',\n",
       "       'transmission_type', 'vehicle_style', 'highway_mpg', 'city_mpg'],\n",
       "      dtype='object')"
      ]
     },
     "execution_count": 209,
     "metadata": {},
     "output_type": "execute_result"
    }
   ],
   "source": [
    "filtered_df_train.columns "
   ]
  },
  {
   "cell_type": "code",
   "execution_count": 210,
   "metadata": {},
   "outputs": [],
   "source": [
    "filtered_df[\"price\"] = filtered_df_price "
   ]
  },
  {
   "cell_type": "code",
   "execution_count": 211,
   "metadata": {},
   "outputs": [],
   "source": [
    "filtered_df_full_train, filtered_df_test = train_test_split(filtered_df, test_size=0.2, random_state=42)\n",
    "filtered_df_train, filtered_df_val = train_test_split(filtered_df_full_train, test_size=0.25, random_state=42)"
   ]
  },
  {
   "cell_type": "code",
   "execution_count": 212,
   "metadata": {},
   "outputs": [],
   "source": [
    "filtered_df_train = filtered_df_train.reset_index(drop=True)\n",
    "filtered_df_test = filtered_df_test.reset_index(drop=True)\n",
    "filtered_df_val = filtered_df_val.reset_index(drop=True)"
   ]
  },
  {
   "cell_type": "code",
   "execution_count": 213,
   "metadata": {},
   "outputs": [
    {
     "name": "stdout",
     "output_type": "stream",
     "text": [
      "(7148, 11)\n",
      "(2383, 11)\n",
      "(2383, 11)\n"
     ]
    }
   ],
   "source": [
    "print(filtered_df_train.shape)\n",
    "print(filtered_df_test.shape)\n",
    "print(filtered_df_val.shape)"
   ]
  },
  {
   "cell_type": "code",
   "execution_count": 214,
   "metadata": {},
   "outputs": [],
   "source": [
    "y_train = np.log1p(filtered_df_train.price) \n",
    "y_test = np.log1p(filtered_df_test.price)\n",
    "y_val = np.log1p(filtered_df_val.price)"
   ]
  },
  {
   "cell_type": "code",
   "execution_count": 215,
   "metadata": {},
   "outputs": [],
   "source": [
    "columns_to_drop = [\"price\", \"above_average\"]\n",
    "filtered_df_train.drop(columns=columns_to_drop, inplace=True)\n",
    "filtered_df_test.drop(columns=columns_to_drop, inplace=True)\n",
    "filtered_df_val.drop(columns=columns_to_drop, inplace=True)"
   ]
  },
  {
   "cell_type": "code",
   "execution_count": 216,
   "metadata": {},
   "outputs": [
    {
     "name": "stdout",
     "output_type": "stream",
     "text": [
      "(7148, 9)\n",
      "(2383, 9)\n",
      "(2383, 9)\n"
     ]
    }
   ],
   "source": [
    "print(filtered_df_train.shape)\n",
    "print(filtered_df_test.shape)\n",
    "print(filtered_df_val.shape)"
   ]
  },
  {
   "cell_type": "code",
   "execution_count": 220,
   "metadata": {},
   "outputs": [],
   "source": [
    "from sklearn.linear_model import Ridge\n",
    "from sklearn.metrics import mean_squared_error"
   ]
  },
  {
   "cell_type": "code",
   "execution_count": 221,
   "metadata": {},
   "outputs": [],
   "source": [
    "# Iterative over a non-exhaustive list of values\n",
    "best_score = np.inf\n",
    "best_alpha = 0 \n",
    "for alpha in [0, 0.01, 0.1, 1, 10]:\n",
    "    train_dicts = filtered_df_train.to_dict(orient=\"records\")\n",
    "    X_train = dv.fit_transform(train_dicts)\n",
    "    model = Ridge(solver=\"sag\", alpha=alpha)\n",
    "    model.fit(X_train, y_train)\n",
    "\n",
    "    val_dicts = filtered_df_val.to_dict(orient=\"records\")\n",
    "    X_val = dv.transform(val_dicts)\n",
    "    y_val_pred = model.predict(X_val)\n",
    "\n",
    "    val_rmse_score = np.sqrt(mean_squared_error(y_val, y_val_pred))\n",
    "\n",
    "    print(f\"For alpha={alpha}: RMSE score = {val_rmse_score}\")\n",
    "\n",
    "    if val_rmse_score < best_score:\n",
    "        best_score = val_rmse_score \n",
    "        best_alpha = alpha\n",
    "\n",
    "print(\"------\")\n",
    "print(f\"Best alpha = {best_alpha} with score {best_score}\")"
   ]
  },
  {
   "cell_type": "code",
   "execution_count": null,
   "metadata": {},
   "outputs": [],
   "source": []
  }
 ],
 "metadata": {
  "kernelspec": {
   "display_name": "machine-learning-zoomcamp-23-gSc8i9dl-py3.9",
   "language": "python",
   "name": "python3"
  },
  "language_info": {
   "codemirror_mode": {
    "name": "ipython",
    "version": 3
   },
   "file_extension": ".py",
   "mimetype": "text/x-python",
   "name": "python",
   "nbconvert_exporter": "python",
   "pygments_lexer": "ipython3",
   "version": "3.9.10"
  },
  "orig_nbformat": 4
 },
 "nbformat": 4,
 "nbformat_minor": 2
}
